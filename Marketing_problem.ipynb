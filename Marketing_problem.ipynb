{
 "cells": [
  {
   "cell_type": "markdown",
   "id": "64559903",
   "metadata": {},
   "source": [
    "# Marketing Analysis\n",
    "\n",
    "The purpuse of this notebook is to give some insights and understanding to the IBM dataset: https://www.ibm.com/communities/analytics/watson-analytics-blog/marketing-customer-value-analysis/.\n",
    "\n",
    "In this repository you will find the dataset as an .xlsx file. There, the data is in a single column as csv, so you may need to change the data from excel as follows: Open the TESTING DB, then select the column with the data, go give click on data in excel, next click on text in columns and finally limit data by comma. Once you have made it, you are ready to start."
   ]
  },
  {
   "cell_type": "code",
   "execution_count": 49,
   "id": "1b288618",
   "metadata": {},
   "outputs": [],
   "source": [
    "# Through this notebook we're gonna need the following python libraries\n",
    "%matplotlib inline\n",
    "\n",
    "import pandas as pd\n",
    "import numpy as np\n",
    "import seaborn as sns\n",
    "sns.set_style(\"darkgrid\")\n",
    "import matplotlib.pyplot as plt\n",
    "import warnings                                            \n",
    "warnings.filterwarnings('ignore')"
   ]
  },
  {
   "cell_type": "code",
   "execution_count": 88,
   "id": "e76c1336",
   "metadata": {},
   "outputs": [
    {
     "name": "stdout",
     "output_type": "stream",
     "text": [
      "Write the local path of the file\n",
      "/Users/David/Desktop/Projects/Marketing/TESTING_BD.xlsx\n"
     ]
    }
   ],
   "source": [
    "# Lets read the file\n",
    "print('Write the local path of the file')\n",
    "path = input() \n",
    "df = pd.read_excel(path)"
   ]
  },
  {
   "cell_type": "markdown",
   "id": "c5f52fb2",
   "metadata": {},
   "source": [
    "## Analysis of the data"
   ]
  },
  {
   "cell_type": "code",
   "execution_count": 3,
   "id": "4b731571",
   "metadata": {},
   "outputs": [
    {
     "data": {
      "text/html": [
       "<div>\n",
       "<style scoped>\n",
       "    .dataframe tbody tr th:only-of-type {\n",
       "        vertical-align: middle;\n",
       "    }\n",
       "\n",
       "    .dataframe tbody tr th {\n",
       "        vertical-align: top;\n",
       "    }\n",
       "\n",
       "    .dataframe thead th {\n",
       "        text-align: right;\n",
       "    }\n",
       "</style>\n",
       "<table border=\"1\" class=\"dataframe\">\n",
       "  <thead>\n",
       "    <tr style=\"text-align: right;\">\n",
       "      <th></th>\n",
       "      <th>Customer</th>\n",
       "      <th>State</th>\n",
       "      <th>Customer Lifetime Value</th>\n",
       "      <th>Response</th>\n",
       "      <th>Coverage</th>\n",
       "      <th>Education</th>\n",
       "      <th>Effective To Date</th>\n",
       "      <th>EmploymentStatus</th>\n",
       "      <th>Gender</th>\n",
       "      <th>Income</th>\n",
       "      <th>...</th>\n",
       "      <th>Months Since Policy Inception</th>\n",
       "      <th>Number of Open Complaints</th>\n",
       "      <th>Number of Policies</th>\n",
       "      <th>Policy Type</th>\n",
       "      <th>Policy</th>\n",
       "      <th>Renew Offer Type</th>\n",
       "      <th>Sales Channel</th>\n",
       "      <th>Total Claim Amount</th>\n",
       "      <th>Vehicle Class</th>\n",
       "      <th>Vehicle Size</th>\n",
       "    </tr>\n",
       "  </thead>\n",
       "  <tbody>\n",
       "    <tr>\n",
       "      <th>0</th>\n",
       "      <td>BU79786</td>\n",
       "      <td>Washington</td>\n",
       "      <td>2763.519279</td>\n",
       "      <td>No</td>\n",
       "      <td>Basic</td>\n",
       "      <td>Bachelor</td>\n",
       "      <td>2/24/11</td>\n",
       "      <td>Employed</td>\n",
       "      <td>F</td>\n",
       "      <td>56274</td>\n",
       "      <td>...</td>\n",
       "      <td>5</td>\n",
       "      <td>0</td>\n",
       "      <td>1</td>\n",
       "      <td>Corporate Auto</td>\n",
       "      <td>Corporate L3</td>\n",
       "      <td>Offer1</td>\n",
       "      <td>Agent</td>\n",
       "      <td>384.811147</td>\n",
       "      <td>Two-Door Car</td>\n",
       "      <td>Medsize</td>\n",
       "    </tr>\n",
       "    <tr>\n",
       "      <th>1</th>\n",
       "      <td>QZ44356</td>\n",
       "      <td>Arizona</td>\n",
       "      <td>6979.535903</td>\n",
       "      <td>No</td>\n",
       "      <td>Extended</td>\n",
       "      <td>Bachelor</td>\n",
       "      <td>1/31/11</td>\n",
       "      <td>Unemployed</td>\n",
       "      <td>F</td>\n",
       "      <td>0</td>\n",
       "      <td>...</td>\n",
       "      <td>42</td>\n",
       "      <td>0</td>\n",
       "      <td>8</td>\n",
       "      <td>Personal Auto</td>\n",
       "      <td>Personal L3</td>\n",
       "      <td>Offer3</td>\n",
       "      <td>Agent</td>\n",
       "      <td>1131.464935</td>\n",
       "      <td>Four-Door Car</td>\n",
       "      <td>Medsize</td>\n",
       "    </tr>\n",
       "    <tr>\n",
       "      <th>2</th>\n",
       "      <td>AI49188</td>\n",
       "      <td>Nevada</td>\n",
       "      <td>12887.431650</td>\n",
       "      <td>No</td>\n",
       "      <td>Premium</td>\n",
       "      <td>Bachelor</td>\n",
       "      <td>2/19/11</td>\n",
       "      <td>Employed</td>\n",
       "      <td>F</td>\n",
       "      <td>48767</td>\n",
       "      <td>...</td>\n",
       "      <td>38</td>\n",
       "      <td>0</td>\n",
       "      <td>2</td>\n",
       "      <td>Personal Auto</td>\n",
       "      <td>Personal L3</td>\n",
       "      <td>Offer1</td>\n",
       "      <td>Agent</td>\n",
       "      <td>566.472247</td>\n",
       "      <td>Two-Door Car</td>\n",
       "      <td>Medsize</td>\n",
       "    </tr>\n",
       "    <tr>\n",
       "      <th>3</th>\n",
       "      <td>WW63253</td>\n",
       "      <td>California</td>\n",
       "      <td>7645.861827</td>\n",
       "      <td>No</td>\n",
       "      <td>Basic</td>\n",
       "      <td>Bachelor</td>\n",
       "      <td>1/20/11</td>\n",
       "      <td>Unemployed</td>\n",
       "      <td>M</td>\n",
       "      <td>0</td>\n",
       "      <td>...</td>\n",
       "      <td>65</td>\n",
       "      <td>0</td>\n",
       "      <td>7</td>\n",
       "      <td>Corporate Auto</td>\n",
       "      <td>Corporate L2</td>\n",
       "      <td>Offer1</td>\n",
       "      <td>Call Center</td>\n",
       "      <td>529.881344</td>\n",
       "      <td>SUV</td>\n",
       "      <td>Medsize</td>\n",
       "    </tr>\n",
       "    <tr>\n",
       "      <th>4</th>\n",
       "      <td>HB64268</td>\n",
       "      <td>Washington</td>\n",
       "      <td>2813.692575</td>\n",
       "      <td>No</td>\n",
       "      <td>Basic</td>\n",
       "      <td>Bachelor</td>\n",
       "      <td>2/3/11</td>\n",
       "      <td>Employed</td>\n",
       "      <td>M</td>\n",
       "      <td>43836</td>\n",
       "      <td>...</td>\n",
       "      <td>44</td>\n",
       "      <td>0</td>\n",
       "      <td>1</td>\n",
       "      <td>Personal Auto</td>\n",
       "      <td>Personal L1</td>\n",
       "      <td>Offer1</td>\n",
       "      <td>Agent</td>\n",
       "      <td>138.130879</td>\n",
       "      <td>Four-Door Car</td>\n",
       "      <td>Medsize</td>\n",
       "    </tr>\n",
       "  </tbody>\n",
       "</table>\n",
       "<p>5 rows × 24 columns</p>\n",
       "</div>"
      ],
      "text/plain": [
       "  Customer       State  Customer Lifetime Value Response  Coverage Education  \\\n",
       "0  BU79786  Washington              2763.519279       No     Basic  Bachelor   \n",
       "1  QZ44356     Arizona              6979.535903       No  Extended  Bachelor   \n",
       "2  AI49188      Nevada             12887.431650       No   Premium  Bachelor   \n",
       "3  WW63253  California              7645.861827       No     Basic  Bachelor   \n",
       "4  HB64268  Washington              2813.692575       No     Basic  Bachelor   \n",
       "\n",
       "  Effective To Date EmploymentStatus Gender  Income  ...  \\\n",
       "0           2/24/11         Employed      F   56274  ...   \n",
       "1           1/31/11       Unemployed      F       0  ...   \n",
       "2           2/19/11         Employed      F   48767  ...   \n",
       "3           1/20/11       Unemployed      M       0  ...   \n",
       "4            2/3/11         Employed      M   43836  ...   \n",
       "\n",
       "  Months Since Policy Inception Number of Open Complaints  Number of Policies  \\\n",
       "0                             5                         0                   1   \n",
       "1                            42                         0                   8   \n",
       "2                            38                         0                   2   \n",
       "3                            65                         0                   7   \n",
       "4                            44                         0                   1   \n",
       "\n",
       "      Policy Type        Policy  Renew Offer Type  Sales Channel  \\\n",
       "0  Corporate Auto  Corporate L3            Offer1          Agent   \n",
       "1   Personal Auto   Personal L3            Offer3          Agent   \n",
       "2   Personal Auto   Personal L3            Offer1          Agent   \n",
       "3  Corporate Auto  Corporate L2            Offer1    Call Center   \n",
       "4   Personal Auto   Personal L1            Offer1          Agent   \n",
       "\n",
       "  Total Claim Amount  Vehicle Class Vehicle Size  \n",
       "0         384.811147   Two-Door Car      Medsize  \n",
       "1        1131.464935  Four-Door Car      Medsize  \n",
       "2         566.472247   Two-Door Car      Medsize  \n",
       "3         529.881344            SUV      Medsize  \n",
       "4         138.130879  Four-Door Car      Medsize  \n",
       "\n",
       "[5 rows x 24 columns]"
      ]
     },
     "execution_count": 3,
     "metadata": {},
     "output_type": "execute_result"
    }
   ],
   "source": [
    "# Lets give a quick view of the data\n",
    "df.head()"
   ]
  },
  {
   "cell_type": "code",
   "execution_count": 4,
   "id": "a04529d3",
   "metadata": {},
   "outputs": [
    {
     "data": {
      "text/plain": [
       "(9134, 24)"
      ]
     },
     "execution_count": 4,
     "metadata": {},
     "output_type": "execute_result"
    }
   ],
   "source": [
    "df.shape"
   ]
  },
  {
   "cell_type": "code",
   "execution_count": 5,
   "id": "9b0a0ce3",
   "metadata": {},
   "outputs": [
    {
     "name": "stdout",
     "output_type": "stream",
     "text": [
      "<class 'pandas.core.frame.DataFrame'>\n",
      "RangeIndex: 9134 entries, 0 to 9133\n",
      "Data columns (total 24 columns):\n",
      " #   Column                         Non-Null Count  Dtype  \n",
      "---  ------                         --------------  -----  \n",
      " 0   Customer                       9134 non-null   object \n",
      " 1   State                          9134 non-null   object \n",
      " 2   Customer Lifetime Value        9134 non-null   float64\n",
      " 3   Response                       9134 non-null   object \n",
      " 4   Coverage                       9134 non-null   object \n",
      " 5   Education                      9134 non-null   object \n",
      " 6   Effective To Date              9134 non-null   object \n",
      " 7   EmploymentStatus               9134 non-null   object \n",
      " 8   Gender                         9134 non-null   object \n",
      " 9   Income                         9134 non-null   int64  \n",
      " 10  Location Code                  9134 non-null   object \n",
      " 11  Marital Status                 9134 non-null   object \n",
      " 12  Monthly Premium Auto           9134 non-null   int64  \n",
      " 13  Months Since Last Claim        9134 non-null   int64  \n",
      " 14  Months Since Policy Inception  9134 non-null   int64  \n",
      " 15  Number of Open Complaints      9134 non-null   int64  \n",
      " 16  Number of Policies             9134 non-null   int64  \n",
      " 17  Policy Type                    9134 non-null   object \n",
      " 18  Policy                         9134 non-null   object \n",
      " 19  Renew Offer Type               9134 non-null   object \n",
      " 20  Sales Channel                  9134 non-null   object \n",
      " 21  Total Claim Amount             9134 non-null   float64\n",
      " 22  Vehicle Class                  9134 non-null   object \n",
      " 23  Vehicle Size                   9134 non-null   object \n",
      "dtypes: float64(2), int64(6), object(16)\n",
      "memory usage: 1.7+ MB\n"
     ]
    }
   ],
   "source": [
    "df.info()"
   ]
  },
  {
   "cell_type": "code",
   "execution_count": 6,
   "id": "cb5da6e0",
   "metadata": {},
   "outputs": [
    {
     "data": {
      "text/html": [
       "<div>\n",
       "<style scoped>\n",
       "    .dataframe tbody tr th:only-of-type {\n",
       "        vertical-align: middle;\n",
       "    }\n",
       "\n",
       "    .dataframe tbody tr th {\n",
       "        vertical-align: top;\n",
       "    }\n",
       "\n",
       "    .dataframe thead th {\n",
       "        text-align: right;\n",
       "    }\n",
       "</style>\n",
       "<table border=\"1\" class=\"dataframe\">\n",
       "  <thead>\n",
       "    <tr style=\"text-align: right;\">\n",
       "      <th></th>\n",
       "      <th>Customer Lifetime Value</th>\n",
       "      <th>Income</th>\n",
       "      <th>Monthly Premium Auto</th>\n",
       "      <th>Months Since Last Claim</th>\n",
       "      <th>Months Since Policy Inception</th>\n",
       "      <th>Number of Open Complaints</th>\n",
       "      <th>Number of Policies</th>\n",
       "      <th>Total Claim Amount</th>\n",
       "    </tr>\n",
       "  </thead>\n",
       "  <tbody>\n",
       "    <tr>\n",
       "      <th>count</th>\n",
       "      <td>9134.000000</td>\n",
       "      <td>9134.000000</td>\n",
       "      <td>9134.000000</td>\n",
       "      <td>9134.000000</td>\n",
       "      <td>9134.000000</td>\n",
       "      <td>9134.000000</td>\n",
       "      <td>9134.000000</td>\n",
       "      <td>9134.000000</td>\n",
       "    </tr>\n",
       "    <tr>\n",
       "      <th>mean</th>\n",
       "      <td>8004.940475</td>\n",
       "      <td>37657.380009</td>\n",
       "      <td>93.219291</td>\n",
       "      <td>15.097000</td>\n",
       "      <td>48.064594</td>\n",
       "      <td>0.384388</td>\n",
       "      <td>2.966170</td>\n",
       "      <td>434.088794</td>\n",
       "    </tr>\n",
       "    <tr>\n",
       "      <th>std</th>\n",
       "      <td>6870.967608</td>\n",
       "      <td>30379.904734</td>\n",
       "      <td>34.407967</td>\n",
       "      <td>10.073257</td>\n",
       "      <td>27.905991</td>\n",
       "      <td>0.910384</td>\n",
       "      <td>2.390182</td>\n",
       "      <td>290.500092</td>\n",
       "    </tr>\n",
       "    <tr>\n",
       "      <th>min</th>\n",
       "      <td>1898.007675</td>\n",
       "      <td>0.000000</td>\n",
       "      <td>61.000000</td>\n",
       "      <td>0.000000</td>\n",
       "      <td>0.000000</td>\n",
       "      <td>0.000000</td>\n",
       "      <td>1.000000</td>\n",
       "      <td>0.099007</td>\n",
       "    </tr>\n",
       "    <tr>\n",
       "      <th>25%</th>\n",
       "      <td>3994.251794</td>\n",
       "      <td>0.000000</td>\n",
       "      <td>68.000000</td>\n",
       "      <td>6.000000</td>\n",
       "      <td>24.000000</td>\n",
       "      <td>0.000000</td>\n",
       "      <td>1.000000</td>\n",
       "      <td>272.258244</td>\n",
       "    </tr>\n",
       "    <tr>\n",
       "      <th>50%</th>\n",
       "      <td>5780.182197</td>\n",
       "      <td>33889.500000</td>\n",
       "      <td>83.000000</td>\n",
       "      <td>14.000000</td>\n",
       "      <td>48.000000</td>\n",
       "      <td>0.000000</td>\n",
       "      <td>2.000000</td>\n",
       "      <td>383.945434</td>\n",
       "    </tr>\n",
       "    <tr>\n",
       "      <th>75%</th>\n",
       "      <td>8962.167041</td>\n",
       "      <td>62320.000000</td>\n",
       "      <td>109.000000</td>\n",
       "      <td>23.000000</td>\n",
       "      <td>71.000000</td>\n",
       "      <td>0.000000</td>\n",
       "      <td>4.000000</td>\n",
       "      <td>547.514839</td>\n",
       "    </tr>\n",
       "    <tr>\n",
       "      <th>max</th>\n",
       "      <td>83325.381190</td>\n",
       "      <td>99981.000000</td>\n",
       "      <td>298.000000</td>\n",
       "      <td>35.000000</td>\n",
       "      <td>99.000000</td>\n",
       "      <td>5.000000</td>\n",
       "      <td>9.000000</td>\n",
       "      <td>2893.239678</td>\n",
       "    </tr>\n",
       "  </tbody>\n",
       "</table>\n",
       "</div>"
      ],
      "text/plain": [
       "       Customer Lifetime Value        Income  Monthly Premium Auto  \\\n",
       "count              9134.000000   9134.000000           9134.000000   \n",
       "mean               8004.940475  37657.380009             93.219291   \n",
       "std                6870.967608  30379.904734             34.407967   \n",
       "min                1898.007675      0.000000             61.000000   \n",
       "25%                3994.251794      0.000000             68.000000   \n",
       "50%                5780.182197  33889.500000             83.000000   \n",
       "75%                8962.167041  62320.000000            109.000000   \n",
       "max               83325.381190  99981.000000            298.000000   \n",
       "\n",
       "       Months Since Last Claim  Months Since Policy Inception  \\\n",
       "count              9134.000000                    9134.000000   \n",
       "mean                 15.097000                      48.064594   \n",
       "std                  10.073257                      27.905991   \n",
       "min                   0.000000                       0.000000   \n",
       "25%                   6.000000                      24.000000   \n",
       "50%                  14.000000                      48.000000   \n",
       "75%                  23.000000                      71.000000   \n",
       "max                  35.000000                      99.000000   \n",
       "\n",
       "       Number of Open Complaints  Number of Policies  Total Claim Amount  \n",
       "count                9134.000000         9134.000000         9134.000000  \n",
       "mean                    0.384388            2.966170          434.088794  \n",
       "std                     0.910384            2.390182          290.500092  \n",
       "min                     0.000000            1.000000            0.099007  \n",
       "25%                     0.000000            1.000000          272.258244  \n",
       "50%                     0.000000            2.000000          383.945434  \n",
       "75%                     0.000000            4.000000          547.514839  \n",
       "max                     5.000000            9.000000         2893.239678  "
      ]
     },
     "execution_count": 6,
     "metadata": {},
     "output_type": "execute_result"
    }
   ],
   "source": [
    "df.describe()"
   ]
  },
  {
   "cell_type": "markdown",
   "id": "3be49139",
   "metadata": {},
   "source": [
    "Since here we have depicted the categorical and numerical variables, also there are no nulls in the df. Finally, there are 9134 records with 34 columns each.\n",
    "\n",
    "The categorical column Response, contains the info about which customers were engaged with the marketing strategy. In the next code we are going to analyze this variable confronted with the other ones."
   ]
  },
  {
   "cell_type": "markdown",
   "id": "180aeb5f",
   "metadata": {},
   "source": [
    "## Engaged people\n",
    "\n",
    "First lets check the total number people who have responded to the strategy"
   ]
  },
  {
   "cell_type": "code",
   "execution_count": 7,
   "id": "6bd39ab9",
   "metadata": {},
   "outputs": [
    {
     "data": {
      "text/plain": [
       "Response\n",
       "No     7826\n",
       "Yes    1308\n",
       "Name: Customer, dtype: int64"
      ]
     },
     "execution_count": 7,
     "metadata": {},
     "output_type": "execute_result"
    }
   ],
   "source": [
    "df.groupby('Response').count()['Customer']"
   ]
  },
  {
   "cell_type": "markdown",
   "id": "2999fdd2",
   "metadata": {},
   "source": [
    "In percentages it would look as follows"
   ]
  },
  {
   "cell_type": "code",
   "execution_count": 8,
   "id": "947a6822",
   "metadata": {},
   "outputs": [
    {
     "data": {
      "text/plain": [
       "Response\n",
       "No     85.679877\n",
       "Yes    14.320123\n",
       "Name: Customer, dtype: float64"
      ]
     },
     "execution_count": 8,
     "metadata": {},
     "output_type": "execute_result"
    }
   ],
   "source": [
    "df.groupby('Response').count()['Customer']/df.shape[0]*100"
   ]
  },
  {
   "cell_type": "code",
   "execution_count": 9,
   "id": "ff2c98d8",
   "metadata": {},
   "outputs": [
    {
     "data": {
      "image/png": "[encoded data removed]",
      "text/plain": [
       "<Figure size 640x480 with 1 Axes>"
      ]
     },
     "metadata": {},
     "output_type": "display_data"
    }
   ],
   "source": [
    "ax = sns.countplot(data = df, x = 'Response', palette='colorblind')\n",
    "plt.ylabel('Total number of Response')\n",
    "ax.spines['top'].set_visible(False)\n",
    "for p in ax.patches:\n",
    "    ax.annotate(f\"{p.get_height() * 100 / df.shape[0]:.2f}%\", (p.get_x() + p.get_width() / 2., p.get_height()),\n",
    "    ha='center', va='center', fontsize=11, color='black', rotation=0, xytext=(0, 10),\n",
    "    textcoords='offset points') \n",
    "plt.show()"
   ]
  },
  {
   "cell_type": "markdown",
   "id": "4493da2d",
   "metadata": {},
   "source": [
    "As we see, there are only 14% of the people engaged with the marketing strategy"
   ]
  },
  {
   "cell_type": "markdown",
   "id": "58194425",
   "metadata": {},
   "source": [
    "## Engagement per renewal offer type\n",
    "\n",
    "Lets see how data is distributed across responses by the type of offert"
   ]
  },
  {
   "cell_type": "code",
   "execution_count": 10,
   "id": "6de0b501",
   "metadata": {},
   "outputs": [
    {
     "data": {
      "image/png": "[encoded data removed]",
      "text/plain": [
       "<Figure size 640x480 with 1 Axes>"
      ]
     },
     "metadata": {},
     "output_type": "display_data"
    }
   ],
   "source": [
    "ax = sns.countplot(data = df, x = 'Response', hue = 'Renew Offer Type' ,palette='colorblind')\n",
    "plt.ylabel('Total number of Response')\n",
    "ax.spines['top'].set_visible(False)\n",
    "for p in ax.patches:\n",
    "    ax.annotate(f\"{p.get_height() * 100 / df.shape[0]:.2f}%\", (p.get_x() + p.get_width() / 2., p.get_height()),\n",
    "    ha='center', va='center', fontsize=11, color='black', rotation=0, xytext=(0, 10),\n",
    "    textcoords='offset points') \n",
    "plt.show()"
   ]
  },
  {
   "cell_type": "markdown",
   "id": "eecb8163",
   "metadata": {},
   "source": [
    "Now lest focus is such customers who have give a positive response to  the marketing campaign"
   ]
  },
  {
   "cell_type": "code",
   "execution_count": 11,
   "id": "def0caf0",
   "metadata": {},
   "outputs": [
    {
     "data": {
      "text/plain": [
       "(1308, 24)"
      ]
     },
     "execution_count": 11,
     "metadata": {},
     "output_type": "execute_result"
    }
   ],
   "source": [
    "df_engaged = df[df['Response'] == 'Yes']\n",
    "df_engaged.shape"
   ]
  },
  {
   "cell_type": "code",
   "execution_count": 12,
   "id": "0129229c",
   "metadata": {},
   "outputs": [
    {
     "data": {
      "text/plain": [
       "Renew Offer Type\n",
       "Offer1    594\n",
       "Offer2    684\n",
       "Offer3     30\n",
       "Name: Customer, dtype: int64"
      ]
     },
     "execution_count": 12,
     "metadata": {},
     "output_type": "execute_result"
    }
   ],
   "source": [
    "df_engaged.groupby('Renew Offer Type').count()['Customer']"
   ]
  },
  {
   "cell_type": "code",
   "execution_count": 13,
   "id": "d2738a6b",
   "metadata": {},
   "outputs": [
    {
     "data": {
      "image/png": "[encoded data removed]",
      "text/plain": [
       "<Figure size 640x480 with 1 Axes>"
      ]
     },
     "metadata": {},
     "output_type": "display_data"
    }
   ],
   "source": [
    "ax = sns.countplot(data = df_engaged, x = 'Renew Offer Type' ,palette='colorblind')\n",
    "plt.ylabel('Total number of Response')\n",
    "ax.spines['top'].set_visible(False)\n",
    "for p in ax.patches:\n",
    "    ax.annotate(f\"{p.get_height() * 100 / df_engaged.shape[0]:.2f}%\", (p.get_x() + p.get_width() / 2., p.get_height()),\n",
    "    ha='center', va='center', fontsize=11, color='black', rotation=0, xytext=(0, 10),\n",
    "    textcoords='offset points') \n",
    "plt.show()"
   ]
  },
  {
   "cell_type": "markdown",
   "id": "1d53f58f",
   "metadata": {},
   "source": [
    "Finally let's give a look to the engagement per renewal offer, i.e. the rate that a offer was taken"
   ]
  },
  {
   "cell_type": "code",
   "execution_count": 14,
   "id": "b9be7c68",
   "metadata": {},
   "outputs": [
    {
     "data": {
      "text/html": [
       "<div>\n",
       "<style scoped>\n",
       "    .dataframe tbody tr th:only-of-type {\n",
       "        vertical-align: middle;\n",
       "    }\n",
       "\n",
       "    .dataframe tbody tr th {\n",
       "        vertical-align: top;\n",
       "    }\n",
       "\n",
       "    .dataframe thead th {\n",
       "        text-align: right;\n",
       "    }\n",
       "</style>\n",
       "<table border=\"1\" class=\"dataframe\">\n",
       "  <thead>\n",
       "    <tr style=\"text-align: right;\">\n",
       "      <th>Response</th>\n",
       "      <th>No</th>\n",
       "      <th>Yes</th>\n",
       "    </tr>\n",
       "    <tr>\n",
       "      <th>Renew Offer Type</th>\n",
       "      <th></th>\n",
       "      <th></th>\n",
       "    </tr>\n",
       "  </thead>\n",
       "  <tbody>\n",
       "    <tr>\n",
       "      <th>Offer1</th>\n",
       "      <td>3158.0</td>\n",
       "      <td>594.0</td>\n",
       "    </tr>\n",
       "    <tr>\n",
       "      <th>Offer2</th>\n",
       "      <td>2242.0</td>\n",
       "      <td>684.0</td>\n",
       "    </tr>\n",
       "    <tr>\n",
       "      <th>Offer3</th>\n",
       "      <td>1402.0</td>\n",
       "      <td>30.0</td>\n",
       "    </tr>\n",
       "    <tr>\n",
       "      <th>Offer4</th>\n",
       "      <td>1024.0</td>\n",
       "      <td>0.0</td>\n",
       "    </tr>\n",
       "  </tbody>\n",
       "</table>\n",
       "</div>"
      ],
      "text/plain": [
       "Response              No    Yes\n",
       "Renew Offer Type               \n",
       "Offer1            3158.0  594.0\n",
       "Offer2            2242.0  684.0\n",
       "Offer3            1402.0   30.0\n",
       "Offer4            1024.0    0.0"
      ]
     },
     "execution_count": 14,
     "metadata": {},
     "output_type": "execute_result"
    }
   ],
   "source": [
    "count_engaged_offer = (df.groupby([\n",
    " 'Renew Offer Type','Response'\n",
    "]).count()['Customer']).unstack().fillna(0)\n",
    "count_engaged_offer"
   ]
  },
  {
   "cell_type": "code",
   "execution_count": 15,
   "id": "fb1c3d56",
   "metadata": {},
   "outputs": [
    {
     "data": {
      "text/html": [
       "<div>\n",
       "<style scoped>\n",
       "    .dataframe tbody tr th:only-of-type {\n",
       "        vertical-align: middle;\n",
       "    }\n",
       "\n",
       "    .dataframe tbody tr th {\n",
       "        vertical-align: top;\n",
       "    }\n",
       "\n",
       "    .dataframe thead th {\n",
       "        text-align: right;\n",
       "    }\n",
       "</style>\n",
       "<table border=\"1\" class=\"dataframe\">\n",
       "  <thead>\n",
       "    <tr style=\"text-align: right;\">\n",
       "      <th>Response</th>\n",
       "      <th>No</th>\n",
       "      <th>Yes</th>\n",
       "    </tr>\n",
       "    <tr>\n",
       "      <th>Renew Offer Type</th>\n",
       "      <th></th>\n",
       "      <th></th>\n",
       "    </tr>\n",
       "  </thead>\n",
       "  <tbody>\n",
       "    <tr>\n",
       "      <th>Offer1</th>\n",
       "      <td>84.168443</td>\n",
       "      <td>15.831557</td>\n",
       "    </tr>\n",
       "    <tr>\n",
       "      <th>Offer2</th>\n",
       "      <td>76.623377</td>\n",
       "      <td>23.376623</td>\n",
       "    </tr>\n",
       "    <tr>\n",
       "      <th>Offer3</th>\n",
       "      <td>97.905028</td>\n",
       "      <td>2.094972</td>\n",
       "    </tr>\n",
       "    <tr>\n",
       "      <th>Offer4</th>\n",
       "      <td>100.000000</td>\n",
       "      <td>0.000000</td>\n",
       "    </tr>\n",
       "  </tbody>\n",
       "</table>\n",
       "</div>"
      ],
      "text/plain": [
       "Response                  No        Yes\n",
       "Renew Offer Type                       \n",
       "Offer1             84.168443  15.831557\n",
       "Offer2             76.623377  23.376623\n",
       "Offer3             97.905028   2.094972\n",
       "Offer4            100.000000   0.000000"
      ]
     },
     "execution_count": 15,
     "metadata": {},
     "output_type": "execute_result"
    }
   ],
   "source": [
    "rates_engaged_offert = (df.groupby([\n",
    " 'Renew Offer Type','Response'\n",
    "]).count()['Customer'] / df.groupby('Renew Offer Type').count()['Customer']*100).unstack().fillna(0)\n",
    "rates_engaged_offert"
   ]
  },
  {
   "cell_type": "markdown",
   "id": "9add3743",
   "metadata": {},
   "source": [
    "As we see, the sum by columns is 100, which was expected. Lest consider only the positive responses"
   ]
  },
  {
   "cell_type": "code",
   "execution_count": 16,
   "id": "a73c9ffd",
   "metadata": {},
   "outputs": [
    {
     "data": {
      "text/plain": [
       "Renew Offer Type\n",
       "Offer1    594.0\n",
       "Offer2    684.0\n",
       "Offer3     30.0\n",
       "Offer4      0.0\n",
       "Name: Yes, dtype: float64"
      ]
     },
     "execution_count": 16,
     "metadata": {},
     "output_type": "execute_result"
    }
   ],
   "source": [
    "count_engaged_offert_pos = count_engaged_offer['Yes']\n",
    "count_engaged_offert_pos"
   ]
  },
  {
   "cell_type": "code",
   "execution_count": 17,
   "id": "649eca42",
   "metadata": {},
   "outputs": [
    {
     "data": {
      "text/plain": [
       "Renew Offer Type\n",
       "Offer1    15.831557\n",
       "Offer2    23.376623\n",
       "Offer3     2.094972\n",
       "Offer4     0.000000\n",
       "Name: Yes, dtype: float64"
      ]
     },
     "execution_count": 17,
     "metadata": {},
     "output_type": "execute_result"
    }
   ],
   "source": [
    "rates_engaged_offert_pos = rates_engaged_offert['Yes']\n",
    "rates_engaged_offert_pos"
   ]
  },
  {
   "cell_type": "markdown",
   "id": "5e1a11e8",
   "metadata": {},
   "source": [
    "Lets graph this"
   ]
  },
  {
   "cell_type": "code",
   "execution_count": 18,
   "id": "3c2d2639",
   "metadata": {},
   "outputs": [
    {
     "data": {
      "image/png": "[encoded data removed]",
      "text/plain": [
       "<Figure size 700x700 with 1 Axes>"
      ]
     },
     "metadata": {},
     "output_type": "display_data"
    }
   ],
   "source": [
    "rates_engaged_offert_pos.plot(\n",
    " kind='bar',\n",
    " figsize=(7, 7),\n",
    " color = \"#44a5c2\",\n",
    " #color='steelblue',\n",
    " grid=True\n",
    ")\n",
    "ax.set_ylabel('Engagement Rate (%)')\n",
    "plt.show()"
   ]
  },
  {
   "cell_type": "markdown",
   "id": "61e1c565",
   "metadata": {},
   "source": [
    "Note that the first grahp means that 7.49% of the total population said positive answer to offert 2. The second one in this section takes into account the positive responses as a whole, so that 52.29% of people who have positive response were attracted by offert 2. Otherwise, the last barplot tell us that upon all the times that offer 2 was presented, 23% of the times it give a positive response. To sum up, the offer2 is working best for the customers."
   ]
  },
  {
   "cell_type": "markdown",
   "id": "b1525e22",
   "metadata": {},
   "source": [
    "## Engagement by renewal offer type and vehicle\n",
    "\n",
    "In the last section we analyze how responses work by looking at the type of offer, in this section it is ideal to delve into the renewal offer type, for this purpose we add a new variable for analysis, the Vehicle Class.\n",
    "\n",
    "First, we split the data in such a way that each offer is break into vehicle class and response"
   ]
  },
  {
   "cell_type": "code",
   "execution_count": 19,
   "id": "6ae5ef0b",
   "metadata": {},
   "outputs": [
    {
     "data": {
      "text/html": [
       "<div>\n",
       "<style scoped>\n",
       "    .dataframe tbody tr th:only-of-type {\n",
       "        vertical-align: middle;\n",
       "    }\n",
       "\n",
       "    .dataframe tbody tr th {\n",
       "        vertical-align: top;\n",
       "    }\n",
       "\n",
       "    .dataframe thead tr th {\n",
       "        text-align: left;\n",
       "    }\n",
       "\n",
       "    .dataframe thead tr:last-of-type th {\n",
       "        text-align: right;\n",
       "    }\n",
       "</style>\n",
       "<table border=\"1\" class=\"dataframe\">\n",
       "  <thead>\n",
       "    <tr>\n",
       "      <th>Response</th>\n",
       "      <th colspan=\"6\" halign=\"left\">No</th>\n",
       "      <th colspan=\"6\" halign=\"left\">Yes</th>\n",
       "    </tr>\n",
       "    <tr>\n",
       "      <th>Vehicle Class</th>\n",
       "      <th>Four-Door Car</th>\n",
       "      <th>Luxury Car</th>\n",
       "      <th>Luxury SUV</th>\n",
       "      <th>SUV</th>\n",
       "      <th>Sports Car</th>\n",
       "      <th>Two-Door Car</th>\n",
       "      <th>Four-Door Car</th>\n",
       "      <th>Luxury Car</th>\n",
       "      <th>Luxury SUV</th>\n",
       "      <th>SUV</th>\n",
       "      <th>Sports Car</th>\n",
       "      <th>Two-Door Car</th>\n",
       "    </tr>\n",
       "    <tr>\n",
       "      <th>Renew Offer Type</th>\n",
       "      <th></th>\n",
       "      <th></th>\n",
       "      <th></th>\n",
       "      <th></th>\n",
       "      <th></th>\n",
       "      <th></th>\n",
       "      <th></th>\n",
       "      <th></th>\n",
       "      <th></th>\n",
       "      <th></th>\n",
       "      <th></th>\n",
       "      <th></th>\n",
       "    </tr>\n",
       "  </thead>\n",
       "  <tbody>\n",
       "    <tr>\n",
       "      <th>Offer1</th>\n",
       "      <td>1533.0</td>\n",
       "      <td>62.0</td>\n",
       "      <td>71.0</td>\n",
       "      <td>724.0</td>\n",
       "      <td>185.0</td>\n",
       "      <td>583.0</td>\n",
       "      <td>264.0</td>\n",
       "      <td>6.0</td>\n",
       "      <td>18.0</td>\n",
       "      <td>168.0</td>\n",
       "      <td>42.0</td>\n",
       "      <td>96.0</td>\n",
       "    </tr>\n",
       "    <tr>\n",
       "      <th>Offer2</th>\n",
       "      <td>1197.0</td>\n",
       "      <td>35.0</td>\n",
       "      <td>35.0</td>\n",
       "      <td>360.0</td>\n",
       "      <td>106.0</td>\n",
       "      <td>509.0</td>\n",
       "      <td>336.0</td>\n",
       "      <td>6.0</td>\n",
       "      <td>12.0</td>\n",
       "      <td>120.0</td>\n",
       "      <td>48.0</td>\n",
       "      <td>162.0</td>\n",
       "    </tr>\n",
       "    <tr>\n",
       "      <th>Offer3</th>\n",
       "      <td>721.0</td>\n",
       "      <td>31.0</td>\n",
       "      <td>27.0</td>\n",
       "      <td>276.0</td>\n",
       "      <td>68.0</td>\n",
       "      <td>279.0</td>\n",
       "      <td>24.0</td>\n",
       "      <td>0.0</td>\n",
       "      <td>0.0</td>\n",
       "      <td>0.0</td>\n",
       "      <td>0.0</td>\n",
       "      <td>6.0</td>\n",
       "    </tr>\n",
       "    <tr>\n",
       "      <th>Offer4</th>\n",
       "      <td>546.0</td>\n",
       "      <td>23.0</td>\n",
       "      <td>21.0</td>\n",
       "      <td>148.0</td>\n",
       "      <td>35.0</td>\n",
       "      <td>251.0</td>\n",
       "      <td>0.0</td>\n",
       "      <td>0.0</td>\n",
       "      <td>0.0</td>\n",
       "      <td>0.0</td>\n",
       "      <td>0.0</td>\n",
       "      <td>0.0</td>\n",
       "    </tr>\n",
       "  </tbody>\n",
       "</table>\n",
       "</div>"
      ],
      "text/plain": [
       "Response                    No                                          \\\n",
       "Vehicle Class    Four-Door Car Luxury Car Luxury SUV    SUV Sports Car   \n",
       "Renew Offer Type                                                         \n",
       "Offer1                  1533.0       62.0       71.0  724.0      185.0   \n",
       "Offer2                  1197.0       35.0       35.0  360.0      106.0   \n",
       "Offer3                   721.0       31.0       27.0  276.0       68.0   \n",
       "Offer4                   546.0       23.0       21.0  148.0       35.0   \n",
       "\n",
       "Response                                Yes                               \\\n",
       "Vehicle Class    Two-Door Car Four-Door Car Luxury Car Luxury SUV    SUV   \n",
       "Renew Offer Type                                                           \n",
       "Offer1                  583.0         264.0        6.0       18.0  168.0   \n",
       "Offer2                  509.0         336.0        6.0       12.0  120.0   \n",
       "Offer3                  279.0          24.0        0.0        0.0    0.0   \n",
       "Offer4                  251.0           0.0        0.0        0.0    0.0   \n",
       "\n",
       "Response                                  \n",
       "Vehicle Class    Sports Car Two-Door Car  \n",
       "Renew Offer Type                          \n",
       "Offer1                 42.0         96.0  \n",
       "Offer2                 48.0        162.0  \n",
       "Offer3                  0.0          6.0  \n",
       "Offer4                  0.0          0.0  "
      ]
     },
     "execution_count": 19,
     "metadata": {},
     "output_type": "execute_result"
    }
   ],
   "source": [
    "offer_vehicle_count = (df.groupby([\n",
    " 'Renew Offer Type', 'Vehicle Class' ,'Response'\n",
    "]).count()['Customer']).unstack().fillna(0).unstack().fillna(0)\n",
    "\n",
    "offer_vehicle_count"
   ]
  },
  {
   "cell_type": "markdown",
   "id": "e14f7bef",
   "metadata": {},
   "source": [
    "Notice that we have unstacked the df twice to have the last table, next we calculate the engagement of this table just by dividing each row by the count per renew offer type -each category of this variable works as a probabilistic space in this case-"
   ]
  },
  {
   "cell_type": "code",
   "execution_count": 20,
   "id": "61590aee",
   "metadata": {},
   "outputs": [
    {
     "data": {
      "text/html": [
       "<div>\n",
       "<style scoped>\n",
       "    .dataframe tbody tr th:only-of-type {\n",
       "        vertical-align: middle;\n",
       "    }\n",
       "\n",
       "    .dataframe tbody tr th {\n",
       "        vertical-align: top;\n",
       "    }\n",
       "\n",
       "    .dataframe thead tr th {\n",
       "        text-align: left;\n",
       "    }\n",
       "\n",
       "    .dataframe thead tr:last-of-type th {\n",
       "        text-align: right;\n",
       "    }\n",
       "</style>\n",
       "<table border=\"1\" class=\"dataframe\">\n",
       "  <thead>\n",
       "    <tr>\n",
       "      <th>Response</th>\n",
       "      <th colspan=\"6\" halign=\"left\">No</th>\n",
       "      <th colspan=\"6\" halign=\"left\">Yes</th>\n",
       "    </tr>\n",
       "    <tr>\n",
       "      <th>Vehicle Class</th>\n",
       "      <th>Four-Door Car</th>\n",
       "      <th>Luxury Car</th>\n",
       "      <th>Luxury SUV</th>\n",
       "      <th>SUV</th>\n",
       "      <th>Sports Car</th>\n",
       "      <th>Two-Door Car</th>\n",
       "      <th>Four-Door Car</th>\n",
       "      <th>Luxury Car</th>\n",
       "      <th>Luxury SUV</th>\n",
       "      <th>SUV</th>\n",
       "      <th>Sports Car</th>\n",
       "      <th>Two-Door Car</th>\n",
       "    </tr>\n",
       "    <tr>\n",
       "      <th>Renew Offer Type</th>\n",
       "      <th></th>\n",
       "      <th></th>\n",
       "      <th></th>\n",
       "      <th></th>\n",
       "      <th></th>\n",
       "      <th></th>\n",
       "      <th></th>\n",
       "      <th></th>\n",
       "      <th></th>\n",
       "      <th></th>\n",
       "      <th></th>\n",
       "      <th></th>\n",
       "    </tr>\n",
       "  </thead>\n",
       "  <tbody>\n",
       "    <tr>\n",
       "      <th>Offer1</th>\n",
       "      <td>40.858209</td>\n",
       "      <td>1.652452</td>\n",
       "      <td>1.892324</td>\n",
       "      <td>19.296375</td>\n",
       "      <td>4.930704</td>\n",
       "      <td>15.538380</td>\n",
       "      <td>7.036247</td>\n",
       "      <td>0.159915</td>\n",
       "      <td>0.479744</td>\n",
       "      <td>4.477612</td>\n",
       "      <td>1.119403</td>\n",
       "      <td>2.558635</td>\n",
       "    </tr>\n",
       "    <tr>\n",
       "      <th>Offer2</th>\n",
       "      <td>40.909091</td>\n",
       "      <td>1.196172</td>\n",
       "      <td>1.196172</td>\n",
       "      <td>12.303486</td>\n",
       "      <td>3.622693</td>\n",
       "      <td>17.395762</td>\n",
       "      <td>11.483254</td>\n",
       "      <td>0.205058</td>\n",
       "      <td>0.410116</td>\n",
       "      <td>4.101162</td>\n",
       "      <td>1.640465</td>\n",
       "      <td>5.536569</td>\n",
       "    </tr>\n",
       "    <tr>\n",
       "      <th>Offer3</th>\n",
       "      <td>50.349162</td>\n",
       "      <td>2.164804</td>\n",
       "      <td>1.885475</td>\n",
       "      <td>19.273743</td>\n",
       "      <td>4.748603</td>\n",
       "      <td>19.483240</td>\n",
       "      <td>1.675978</td>\n",
       "      <td>0.000000</td>\n",
       "      <td>0.000000</td>\n",
       "      <td>0.000000</td>\n",
       "      <td>0.000000</td>\n",
       "      <td>0.418994</td>\n",
       "    </tr>\n",
       "    <tr>\n",
       "      <th>Offer4</th>\n",
       "      <td>53.320312</td>\n",
       "      <td>2.246094</td>\n",
       "      <td>2.050781</td>\n",
       "      <td>14.453125</td>\n",
       "      <td>3.417969</td>\n",
       "      <td>24.511719</td>\n",
       "      <td>0.000000</td>\n",
       "      <td>0.000000</td>\n",
       "      <td>0.000000</td>\n",
       "      <td>0.000000</td>\n",
       "      <td>0.000000</td>\n",
       "      <td>0.000000</td>\n",
       "    </tr>\n",
       "  </tbody>\n",
       "</table>\n",
       "</div>"
      ],
      "text/plain": [
       "Response                    No                                              \\\n",
       "Vehicle Class    Four-Door Car Luxury Car Luxury SUV        SUV Sports Car   \n",
       "Renew Offer Type                                                             \n",
       "Offer1               40.858209   1.652452   1.892324  19.296375   4.930704   \n",
       "Offer2               40.909091   1.196172   1.196172  12.303486   3.622693   \n",
       "Offer3               50.349162   2.164804   1.885475  19.273743   4.748603   \n",
       "Offer4               53.320312   2.246094   2.050781  14.453125   3.417969   \n",
       "\n",
       "Response                                Yes                                  \\\n",
       "Vehicle Class    Two-Door Car Four-Door Car Luxury Car Luxury SUV       SUV   \n",
       "Renew Offer Type                                                              \n",
       "Offer1              15.538380      7.036247   0.159915   0.479744  4.477612   \n",
       "Offer2              17.395762     11.483254   0.205058   0.410116  4.101162   \n",
       "Offer3              19.483240      1.675978   0.000000   0.000000  0.000000   \n",
       "Offer4              24.511719      0.000000   0.000000   0.000000  0.000000   \n",
       "\n",
       "Response                                  \n",
       "Vehicle Class    Sports Car Two-Door Car  \n",
       "Renew Offer Type                          \n",
       "Offer1             1.119403     2.558635  \n",
       "Offer2             1.640465     5.536569  \n",
       "Offer3             0.000000     0.418994  \n",
       "Offer4             0.000000     0.000000  "
      ]
     },
     "execution_count": 20,
     "metadata": {},
     "output_type": "execute_result"
    }
   ],
   "source": [
    "offer_vehicle_rate = (df.groupby([\n",
    " 'Renew Offer Type', 'Vehicle Class' ,'Response'\n",
    "]).count()['Customer']/ df.groupby(['Renew Offer Type']).count()['Customer']*100).unstack().fillna(0).unstack().fillna(0)\n",
    "\n",
    "offer_vehicle_rate"
   ]
  },
  {
   "cell_type": "code",
   "execution_count": 21,
   "id": "4842f8ae",
   "metadata": {},
   "outputs": [
    {
     "data": {
      "text/plain": [
       "Renew Offer Type\n",
       "Offer1    100.0\n",
       "Offer2    100.0\n",
       "Offer3    100.0\n",
       "Offer4    100.0\n",
       "dtype: float64"
      ]
     },
     "execution_count": 21,
     "metadata": {},
     "output_type": "execute_result"
    }
   ],
   "source": [
    "# Checking if the calculations are right\n",
    "offer_vehicle_rate.sum(axis=1)"
   ]
  },
  {
   "cell_type": "markdown",
   "id": "8cd144ca",
   "metadata": {},
   "source": [
    "Considering positive responses only"
   ]
  },
  {
   "cell_type": "code",
   "execution_count": 22,
   "id": "097011c9",
   "metadata": {},
   "outputs": [
    {
     "data": {
      "text/html": [
       "<div>\n",
       "<style scoped>\n",
       "    .dataframe tbody tr th:only-of-type {\n",
       "        vertical-align: middle;\n",
       "    }\n",
       "\n",
       "    .dataframe tbody tr th {\n",
       "        vertical-align: top;\n",
       "    }\n",
       "\n",
       "    .dataframe thead th {\n",
       "        text-align: right;\n",
       "    }\n",
       "</style>\n",
       "<table border=\"1\" class=\"dataframe\">\n",
       "  <thead>\n",
       "    <tr style=\"text-align: right;\">\n",
       "      <th>Vehicle Class</th>\n",
       "      <th>Four-Door Car</th>\n",
       "      <th>Luxury Car</th>\n",
       "      <th>Luxury SUV</th>\n",
       "      <th>SUV</th>\n",
       "      <th>Sports Car</th>\n",
       "      <th>Two-Door Car</th>\n",
       "    </tr>\n",
       "    <tr>\n",
       "      <th>Renew Offer Type</th>\n",
       "      <th></th>\n",
       "      <th></th>\n",
       "      <th></th>\n",
       "      <th></th>\n",
       "      <th></th>\n",
       "      <th></th>\n",
       "    </tr>\n",
       "  </thead>\n",
       "  <tbody>\n",
       "    <tr>\n",
       "      <th>Offer1</th>\n",
       "      <td>7.036247</td>\n",
       "      <td>0.159915</td>\n",
       "      <td>0.479744</td>\n",
       "      <td>4.477612</td>\n",
       "      <td>1.119403</td>\n",
       "      <td>2.558635</td>\n",
       "    </tr>\n",
       "    <tr>\n",
       "      <th>Offer2</th>\n",
       "      <td>11.483254</td>\n",
       "      <td>0.205058</td>\n",
       "      <td>0.410116</td>\n",
       "      <td>4.101162</td>\n",
       "      <td>1.640465</td>\n",
       "      <td>5.536569</td>\n",
       "    </tr>\n",
       "    <tr>\n",
       "      <th>Offer3</th>\n",
       "      <td>1.675978</td>\n",
       "      <td>0.000000</td>\n",
       "      <td>0.000000</td>\n",
       "      <td>0.000000</td>\n",
       "      <td>0.000000</td>\n",
       "      <td>0.418994</td>\n",
       "    </tr>\n",
       "    <tr>\n",
       "      <th>Offer4</th>\n",
       "      <td>0.000000</td>\n",
       "      <td>0.000000</td>\n",
       "      <td>0.000000</td>\n",
       "      <td>0.000000</td>\n",
       "      <td>0.000000</td>\n",
       "      <td>0.000000</td>\n",
       "    </tr>\n",
       "  </tbody>\n",
       "</table>\n",
       "</div>"
      ],
      "text/plain": [
       "Vehicle Class     Four-Door Car  Luxury Car  Luxury SUV       SUV  Sports Car  \\\n",
       "Renew Offer Type                                                                \n",
       "Offer1                 7.036247    0.159915    0.479744  4.477612    1.119403   \n",
       "Offer2                11.483254    0.205058    0.410116  4.101162    1.640465   \n",
       "Offer3                 1.675978    0.000000    0.000000  0.000000    0.000000   \n",
       "Offer4                 0.000000    0.000000    0.000000  0.000000    0.000000   \n",
       "\n",
       "Vehicle Class     Two-Door Car  \n",
       "Renew Offer Type                \n",
       "Offer1                2.558635  \n",
       "Offer2                5.536569  \n",
       "Offer3                0.418994  \n",
       "Offer4                0.000000  "
      ]
     },
     "execution_count": 22,
     "metadata": {},
     "output_type": "execute_result"
    }
   ],
   "source": [
    "offer_vehicle_rate_pos = offer_vehicle_rate['Yes']\n",
    "offer_vehicle_rate_pos"
   ]
  },
  {
   "cell_type": "code",
   "execution_count": 23,
   "id": "79732381",
   "metadata": {},
   "outputs": [
    {
     "data": {
      "image/png": "[encoded data removed]",
      "text/plain": [
       "<Figure size 800x500 with 1 Axes>"
      ]
     },
     "metadata": {},
     "output_type": "display_data"
    }
   ],
   "source": [
    "offer_vehicle_rate_pos.plot(\n",
    " kind='bar',\n",
    " figsize=(8, 5),\n",
    " color = [\"#999999\", \"#E69F00\", \"#56B4E9\", \"#009E73\", \"#F0E442\", \"#0072B2\", \"#D55E00\", \"#CC79A7\"],\n",
    " #color='steelblue',\n",
    " grid=True\n",
    ")\n",
    "ax.set_ylabel('Engagement Rate (%)')\n",
    "plt.show()"
   ]
  },
  {
   "cell_type": "markdown",
   "id": "a37a4025",
   "metadata": {},
   "source": [
    "Some important things to stand out from the last barplot. First, we know that is more likely to accept the offert 2 amog the total of offers but here the engament is split by the type of vehicle, this help us to see that the engagement is higher among customers with Four-Door and Two-Door vehicles. The engament in Four-Door, Two-Door and sport vehicles seem to be higher with the offer 2 while SUV cars with offer 1. To be certain about this, we calculate the engament by offer given a vehicle -conditional probabilitie- just as simple as follows"
   ]
  },
  {
   "cell_type": "code",
   "execution_count": 24,
   "id": "9fc13dbb",
   "metadata": {},
   "outputs": [
    {
     "data": {
      "text/html": [
       "<div>\n",
       "<style scoped>\n",
       "    .dataframe tbody tr th:only-of-type {\n",
       "        vertical-align: middle;\n",
       "    }\n",
       "\n",
       "    .dataframe tbody tr th {\n",
       "        vertical-align: top;\n",
       "    }\n",
       "\n",
       "    .dataframe thead tr th {\n",
       "        text-align: left;\n",
       "    }\n",
       "\n",
       "    .dataframe thead tr:last-of-type th {\n",
       "        text-align: right;\n",
       "    }\n",
       "</style>\n",
       "<table border=\"1\" class=\"dataframe\">\n",
       "  <thead>\n",
       "    <tr>\n",
       "      <th>Response</th>\n",
       "      <th colspan=\"4\" halign=\"left\">No</th>\n",
       "      <th colspan=\"4\" halign=\"left\">Yes</th>\n",
       "    </tr>\n",
       "    <tr>\n",
       "      <th>Renew Offer Type</th>\n",
       "      <th>Offer1</th>\n",
       "      <th>Offer2</th>\n",
       "      <th>Offer3</th>\n",
       "      <th>Offer4</th>\n",
       "      <th>Offer1</th>\n",
       "      <th>Offer2</th>\n",
       "      <th>Offer3</th>\n",
       "      <th>Offer4</th>\n",
       "    </tr>\n",
       "    <tr>\n",
       "      <th>Vehicle Class</th>\n",
       "      <th></th>\n",
       "      <th></th>\n",
       "      <th></th>\n",
       "      <th></th>\n",
       "      <th></th>\n",
       "      <th></th>\n",
       "      <th></th>\n",
       "      <th></th>\n",
       "    </tr>\n",
       "  </thead>\n",
       "  <tbody>\n",
       "    <tr>\n",
       "      <th>Four-Door Car</th>\n",
       "      <td>33.174638</td>\n",
       "      <td>25.903484</td>\n",
       "      <td>15.602683</td>\n",
       "      <td>11.815624</td>\n",
       "      <td>5.713049</td>\n",
       "      <td>7.271153</td>\n",
       "      <td>0.519368</td>\n",
       "      <td>0.0</td>\n",
       "    </tr>\n",
       "    <tr>\n",
       "      <th>Luxury Car</th>\n",
       "      <td>38.036810</td>\n",
       "      <td>21.472393</td>\n",
       "      <td>19.018405</td>\n",
       "      <td>14.110429</td>\n",
       "      <td>3.680982</td>\n",
       "      <td>3.680982</td>\n",
       "      <td>0.000000</td>\n",
       "      <td>0.0</td>\n",
       "    </tr>\n",
       "    <tr>\n",
       "      <th>Luxury SUV</th>\n",
       "      <td>38.586957</td>\n",
       "      <td>19.021739</td>\n",
       "      <td>14.673913</td>\n",
       "      <td>11.413043</td>\n",
       "      <td>9.782609</td>\n",
       "      <td>6.521739</td>\n",
       "      <td>0.000000</td>\n",
       "      <td>0.0</td>\n",
       "    </tr>\n",
       "    <tr>\n",
       "      <th>SUV</th>\n",
       "      <td>40.311804</td>\n",
       "      <td>20.044543</td>\n",
       "      <td>15.367483</td>\n",
       "      <td>8.240535</td>\n",
       "      <td>9.354120</td>\n",
       "      <td>6.681514</td>\n",
       "      <td>0.000000</td>\n",
       "      <td>0.0</td>\n",
       "    </tr>\n",
       "    <tr>\n",
       "      <th>Sports Car</th>\n",
       "      <td>38.223140</td>\n",
       "      <td>21.900826</td>\n",
       "      <td>14.049587</td>\n",
       "      <td>7.231405</td>\n",
       "      <td>8.677686</td>\n",
       "      <td>9.917355</td>\n",
       "      <td>0.000000</td>\n",
       "      <td>0.0</td>\n",
       "    </tr>\n",
       "    <tr>\n",
       "      <th>Two-Door Car</th>\n",
       "      <td>30.911983</td>\n",
       "      <td>26.988335</td>\n",
       "      <td>14.793213</td>\n",
       "      <td>13.308590</td>\n",
       "      <td>5.090138</td>\n",
       "      <td>8.589608</td>\n",
       "      <td>0.318134</td>\n",
       "      <td>0.0</td>\n",
       "    </tr>\n",
       "  </tbody>\n",
       "</table>\n",
       "</div>"
      ],
      "text/plain": [
       "Response                 No                                        Yes  \\\n",
       "Renew Offer Type     Offer1     Offer2     Offer3     Offer4    Offer1   \n",
       "Vehicle Class                                                            \n",
       "Four-Door Car     33.174638  25.903484  15.602683  11.815624  5.713049   \n",
       "Luxury Car        38.036810  21.472393  19.018405  14.110429  3.680982   \n",
       "Luxury SUV        38.586957  19.021739  14.673913  11.413043  9.782609   \n",
       "SUV               40.311804  20.044543  15.367483   8.240535  9.354120   \n",
       "Sports Car        38.223140  21.900826  14.049587   7.231405  8.677686   \n",
       "Two-Door Car      30.911983  26.988335  14.793213  13.308590  5.090138   \n",
       "\n",
       "Response                                     \n",
       "Renew Offer Type    Offer2    Offer3 Offer4  \n",
       "Vehicle Class                                \n",
       "Four-Door Car     7.271153  0.519368    0.0  \n",
       "Luxury Car        3.680982  0.000000    0.0  \n",
       "Luxury SUV        6.521739  0.000000    0.0  \n",
       "SUV               6.681514  0.000000    0.0  \n",
       "Sports Car        9.917355  0.000000    0.0  \n",
       "Two-Door Car      8.589608  0.318134    0.0  "
      ]
     },
     "execution_count": 24,
     "metadata": {},
     "output_type": "execute_result"
    }
   ],
   "source": [
    "conditional_offer_vehicle_engagament = (df.groupby([\n",
    " 'Vehicle Class', 'Renew Offer Type', 'Response'\n",
    "]).count()['Customer']/ df.groupby(['Vehicle Class']).count()['Customer']*100).unstack().fillna(0).unstack().fillna(0)\n",
    "\n",
    "conditional_offer_vehicle_engagament"
   ]
  },
  {
   "cell_type": "markdown",
   "id": "fb999207",
   "metadata": {},
   "source": [
    "Getting only the positive responses"
   ]
  },
  {
   "cell_type": "code",
   "execution_count": 25,
   "id": "d9aebf72",
   "metadata": {},
   "outputs": [
    {
     "data": {
      "text/html": [
       "<div>\n",
       "<style scoped>\n",
       "    .dataframe tbody tr th:only-of-type {\n",
       "        vertical-align: middle;\n",
       "    }\n",
       "\n",
       "    .dataframe tbody tr th {\n",
       "        vertical-align: top;\n",
       "    }\n",
       "\n",
       "    .dataframe thead th {\n",
       "        text-align: right;\n",
       "    }\n",
       "</style>\n",
       "<table border=\"1\" class=\"dataframe\">\n",
       "  <thead>\n",
       "    <tr style=\"text-align: right;\">\n",
       "      <th>Renew Offer Type</th>\n",
       "      <th>Offer1</th>\n",
       "      <th>Offer2</th>\n",
       "      <th>Offer3</th>\n",
       "      <th>Offer4</th>\n",
       "    </tr>\n",
       "    <tr>\n",
       "      <th>Vehicle Class</th>\n",
       "      <th></th>\n",
       "      <th></th>\n",
       "      <th></th>\n",
       "      <th></th>\n",
       "    </tr>\n",
       "  </thead>\n",
       "  <tbody>\n",
       "    <tr>\n",
       "      <th>Four-Door Car</th>\n",
       "      <td>5.713049</td>\n",
       "      <td>7.271153</td>\n",
       "      <td>0.519368</td>\n",
       "      <td>0.0</td>\n",
       "    </tr>\n",
       "    <tr>\n",
       "      <th>Luxury Car</th>\n",
       "      <td>3.680982</td>\n",
       "      <td>3.680982</td>\n",
       "      <td>0.000000</td>\n",
       "      <td>0.0</td>\n",
       "    </tr>\n",
       "    <tr>\n",
       "      <th>Luxury SUV</th>\n",
       "      <td>9.782609</td>\n",
       "      <td>6.521739</td>\n",
       "      <td>0.000000</td>\n",
       "      <td>0.0</td>\n",
       "    </tr>\n",
       "    <tr>\n",
       "      <th>SUV</th>\n",
       "      <td>9.354120</td>\n",
       "      <td>6.681514</td>\n",
       "      <td>0.000000</td>\n",
       "      <td>0.0</td>\n",
       "    </tr>\n",
       "    <tr>\n",
       "      <th>Sports Car</th>\n",
       "      <td>8.677686</td>\n",
       "      <td>9.917355</td>\n",
       "      <td>0.000000</td>\n",
       "      <td>0.0</td>\n",
       "    </tr>\n",
       "    <tr>\n",
       "      <th>Two-Door Car</th>\n",
       "      <td>5.090138</td>\n",
       "      <td>8.589608</td>\n",
       "      <td>0.318134</td>\n",
       "      <td>0.0</td>\n",
       "    </tr>\n",
       "  </tbody>\n",
       "</table>\n",
       "</div>"
      ],
      "text/plain": [
       "Renew Offer Type    Offer1    Offer2    Offer3  Offer4\n",
       "Vehicle Class                                         \n",
       "Four-Door Car     5.713049  7.271153  0.519368     0.0\n",
       "Luxury Car        3.680982  3.680982  0.000000     0.0\n",
       "Luxury SUV        9.782609  6.521739  0.000000     0.0\n",
       "SUV               9.354120  6.681514  0.000000     0.0\n",
       "Sports Car        8.677686  9.917355  0.000000     0.0\n",
       "Two-Door Car      5.090138  8.589608  0.318134     0.0"
      ]
     },
     "execution_count": 25,
     "metadata": {},
     "output_type": "execute_result"
    }
   ],
   "source": [
    "conditional_offer_vehicle_engagament_positve = conditional_offer_vehicle_engagament['Yes']\n",
    "\n",
    "conditional_offer_vehicle_engagament_positve"
   ]
  },
  {
   "cell_type": "code",
   "execution_count": 26,
   "id": "ddf7204e",
   "metadata": {},
   "outputs": [
    {
     "data": {
      "image/png": "[encoded data removed]",
      "text/plain": [
       "<Figure size 800x500 with 1 Axes>"
      ]
     },
     "metadata": {},
     "output_type": "display_data"
    }
   ],
   "source": [
    "conditional_offer_vehicle_engagament_positve.plot(\n",
    " kind='bar',\n",
    " figsize=(8, 5),\n",
    " color = [\"#999999\", \"#E69F00\", \"#56B4E9\", \"#009E73\", \"#F0E442\", \"#0072B2\", \"#D55E00\", \"#CC79A7\"],\n",
    " #color='steelblue',\n",
    " grid=True\n",
    ")\n",
    "ax.set_ylabel('Engagement Rate (%)')\n",
    "plt.show()"
   ]
  },
  {
   "cell_type": "markdown",
   "id": "2a0a346e",
   "metadata": {},
   "source": [
    "This plot give us insights of what offer could be more attractive to customers based on their type of vehicle."
   ]
  },
  {
   "cell_type": "markdown",
   "id": "537fbc72",
   "metadata": {},
   "source": [
    "## Engagement per sales channel\n",
    "\n",
    "Lets see how data is distributed across responses by the type of channel"
   ]
  },
  {
   "cell_type": "code",
   "execution_count": 27,
   "id": "96d70a91",
   "metadata": {},
   "outputs": [
    {
     "data": {
      "image/png": "[encoded data removed]",
      "text/plain": [
       "<Figure size 640x480 with 1 Axes>"
      ]
     },
     "metadata": {},
     "output_type": "display_data"
    }
   ],
   "source": [
    "ax = sns.countplot(data = df, x = 'Response', hue = 'Sales Channel' ,palette='colorblind')\n",
    "plt.ylabel('Total number of Response')\n",
    "ax.spines['top'].set_visible(False)\n",
    "for p in ax.patches:\n",
    "    ax.annotate(f\"{p.get_height() * 100 / df.shape[0]:.2f}%\", (p.get_x() + p.get_width() / 2., p.get_height()),\n",
    "    ha='center', va='center', fontsize=11, color='black', rotation=0, xytext=(0, 10),\n",
    "    textcoords='offset points') \n",
    "plt.show()"
   ]
  },
  {
   "cell_type": "markdown",
   "id": "62cff0e1",
   "metadata": {},
   "source": [
    "Now lest focus is such customers who have give a positive response to  the marketing campaign"
   ]
  },
  {
   "cell_type": "code",
   "execution_count": 28,
   "id": "01296596",
   "metadata": {},
   "outputs": [
    {
     "data": {
      "text/plain": [
       "Sales Channel\n",
       "Agent          666\n",
       "Branch         294\n",
       "Call Center    192\n",
       "Web            156\n",
       "Name: Customer, dtype: int64"
      ]
     },
     "execution_count": 28,
     "metadata": {},
     "output_type": "execute_result"
    }
   ],
   "source": [
    "df_engaged.groupby('Sales Channel').count()['Customer']"
   ]
  },
  {
   "cell_type": "code",
   "execution_count": 29,
   "id": "a13f10a6",
   "metadata": {},
   "outputs": [
    {
     "data": {
      "image/png": "[encoded data removed]",
      "text/plain": [
       "<Figure size 640x480 with 1 Axes>"
      ]
     },
     "metadata": {},
     "output_type": "display_data"
    }
   ],
   "source": [
    "ax = sns.countplot(data = df_engaged, x = 'Sales Channel' ,palette='colorblind')\n",
    "plt.ylabel('Total number of Response')\n",
    "ax.spines['top'].set_visible(False)\n",
    "for p in ax.patches:\n",
    "    ax.annotate(f\"{p.get_height() * 100 / df_engaged.shape[0]:.2f}%\", (p.get_x() + p.get_width() / 2., p.get_height()),\n",
    "    ha='center', va='center', fontsize=11, color='black', rotation=0, xytext=(0, 10),\n",
    "    textcoords='offset points') \n",
    "plt.show()"
   ]
  },
  {
   "cell_type": "markdown",
   "id": "00907318",
   "metadata": {},
   "source": [
    "Finally let's give a look to the engagement per sales channel, i.e. the rate that channel takes"
   ]
  },
  {
   "cell_type": "code",
   "execution_count": 30,
   "id": "c3f247cf",
   "metadata": {},
   "outputs": [
    {
     "data": {
      "text/html": [
       "<div>\n",
       "<style scoped>\n",
       "    .dataframe tbody tr th:only-of-type {\n",
       "        vertical-align: middle;\n",
       "    }\n",
       "\n",
       "    .dataframe tbody tr th {\n",
       "        vertical-align: top;\n",
       "    }\n",
       "\n",
       "    .dataframe thead th {\n",
       "        text-align: right;\n",
       "    }\n",
       "</style>\n",
       "<table border=\"1\" class=\"dataframe\">\n",
       "  <thead>\n",
       "    <tr style=\"text-align: right;\">\n",
       "      <th>Response</th>\n",
       "      <th>No</th>\n",
       "      <th>Yes</th>\n",
       "    </tr>\n",
       "    <tr>\n",
       "      <th>Sales Channel</th>\n",
       "      <th></th>\n",
       "      <th></th>\n",
       "    </tr>\n",
       "  </thead>\n",
       "  <tbody>\n",
       "    <tr>\n",
       "      <th>Agent</th>\n",
       "      <td>2811</td>\n",
       "      <td>666</td>\n",
       "    </tr>\n",
       "    <tr>\n",
       "      <th>Branch</th>\n",
       "      <td>2273</td>\n",
       "      <td>294</td>\n",
       "    </tr>\n",
       "    <tr>\n",
       "      <th>Call Center</th>\n",
       "      <td>1573</td>\n",
       "      <td>192</td>\n",
       "    </tr>\n",
       "    <tr>\n",
       "      <th>Web</th>\n",
       "      <td>1169</td>\n",
       "      <td>156</td>\n",
       "    </tr>\n",
       "  </tbody>\n",
       "</table>\n",
       "</div>"
      ],
      "text/plain": [
       "Response         No  Yes\n",
       "Sales Channel           \n",
       "Agent          2811  666\n",
       "Branch         2273  294\n",
       "Call Center    1573  192\n",
       "Web            1169  156"
      ]
     },
     "execution_count": 30,
     "metadata": {},
     "output_type": "execute_result"
    }
   ],
   "source": [
    "count_engaged_channel = (df.groupby([\n",
    " 'Sales Channel','Response'\n",
    "]).count()['Customer']).unstack().fillna(0)\n",
    "count_engaged_channel"
   ]
  },
  {
   "cell_type": "code",
   "execution_count": 31,
   "id": "534da34b",
   "metadata": {},
   "outputs": [
    {
     "data": {
      "text/html": [
       "<div>\n",
       "<style scoped>\n",
       "    .dataframe tbody tr th:only-of-type {\n",
       "        vertical-align: middle;\n",
       "    }\n",
       "\n",
       "    .dataframe tbody tr th {\n",
       "        vertical-align: top;\n",
       "    }\n",
       "\n",
       "    .dataframe thead th {\n",
       "        text-align: right;\n",
       "    }\n",
       "</style>\n",
       "<table border=\"1\" class=\"dataframe\">\n",
       "  <thead>\n",
       "    <tr style=\"text-align: right;\">\n",
       "      <th>Response</th>\n",
       "      <th>No</th>\n",
       "      <th>Yes</th>\n",
       "    </tr>\n",
       "    <tr>\n",
       "      <th>Sales Channel</th>\n",
       "      <th></th>\n",
       "      <th></th>\n",
       "    </tr>\n",
       "  </thead>\n",
       "  <tbody>\n",
       "    <tr>\n",
       "      <th>Agent</th>\n",
       "      <td>80.845557</td>\n",
       "      <td>19.154443</td>\n",
       "    </tr>\n",
       "    <tr>\n",
       "      <th>Branch</th>\n",
       "      <td>88.546942</td>\n",
       "      <td>11.453058</td>\n",
       "    </tr>\n",
       "    <tr>\n",
       "      <th>Call Center</th>\n",
       "      <td>89.121813</td>\n",
       "      <td>10.878187</td>\n",
       "    </tr>\n",
       "    <tr>\n",
       "      <th>Web</th>\n",
       "      <td>88.226415</td>\n",
       "      <td>11.773585</td>\n",
       "    </tr>\n",
       "  </tbody>\n",
       "</table>\n",
       "</div>"
      ],
      "text/plain": [
       "Response              No        Yes\n",
       "Sales Channel                      \n",
       "Agent          80.845557  19.154443\n",
       "Branch         88.546942  11.453058\n",
       "Call Center    89.121813  10.878187\n",
       "Web            88.226415  11.773585"
      ]
     },
     "execution_count": 31,
     "metadata": {},
     "output_type": "execute_result"
    }
   ],
   "source": [
    "rates_engaged_channel = (df.groupby([\n",
    " 'Sales Channel','Response'\n",
    "]).count()['Customer'] / df.groupby('Sales Channel').count()['Customer']*100).unstack().fillna(0)\n",
    "\n",
    "rates_engaged_channel"
   ]
  },
  {
   "cell_type": "markdown",
   "id": "963d8d80",
   "metadata": {},
   "source": [
    "As we see, the sum by columns is 100, which was expected. Lest consider only the positive responses"
   ]
  },
  {
   "cell_type": "code",
   "execution_count": 32,
   "id": "440818ec",
   "metadata": {},
   "outputs": [
    {
     "data": {
      "text/plain": [
       "Sales Channel\n",
       "Agent          19.154443\n",
       "Branch         11.453058\n",
       "Call Center    10.878187\n",
       "Web            11.773585\n",
       "Name: Yes, dtype: float64"
      ]
     },
     "execution_count": 32,
     "metadata": {},
     "output_type": "execute_result"
    }
   ],
   "source": [
    "rates_engaged_channel_pos = rates_engaged_channel['Yes']\n",
    "rates_engaged_channel_pos"
   ]
  },
  {
   "cell_type": "markdown",
   "id": "cc8f1c2b",
   "metadata": {},
   "source": [
    "Lest graph this"
   ]
  },
  {
   "cell_type": "code",
   "execution_count": 33,
   "id": "5ceb62d7",
   "metadata": {},
   "outputs": [
    {
     "data": {
      "image/png": "[encoded data removed]",
      "text/plain": [
       "<Figure size 700x700 with 1 Axes>"
      ]
     },
     "metadata": {},
     "output_type": "display_data"
    }
   ],
   "source": [
    "rates_engaged_channel_pos.plot(\n",
    " kind='bar',\n",
    " figsize=(7, 7),\n",
    " color = \"#44a5c2\",\n",
    " #color='steelblue',\n",
    " grid=True\n",
    ")\n",
    "ax.set_ylabel('Engagement Rate (%)')\n",
    "plt.show()"
   ]
  },
  {
   "cell_type": "markdown",
   "id": "9b4a734b",
   "metadata": {},
   "source": [
    "Note that the first graph means that 7.29% of the total population said given a yes being contacted via agent. The second one in this section takes into account the positive responses as a whole, so that 52.92% of people who have positive responses were attracted by an agent. Lastly, the final barplot tells us that upon all the times that an agent tried to reach a customer out, 19% of the times it gave a positive response. To sum up, the Agent channel is working best for the customers."
   ]
  },
  {
   "cell_type": "markdown",
   "id": "27f23b1b",
   "metadata": {},
   "source": [
    "## Engagement by sales channel and size vehicle\n",
    "\n",
    "In the last section we analyze how responses work by looking at the channel, in this section it is ideal to delve into the sales channel, for this purpose we add a new variable for analysis, the Vehicle Size.\n",
    "\n",
    "First, we split the data in such a way that each channel is break into vehicle size and response"
   ]
  },
  {
   "cell_type": "code",
   "execution_count": 34,
   "id": "3b42f989",
   "metadata": {},
   "outputs": [
    {
     "data": {
      "text/html": [
       "<div>\n",
       "<style scoped>\n",
       "    .dataframe tbody tr th:only-of-type {\n",
       "        vertical-align: middle;\n",
       "    }\n",
       "\n",
       "    .dataframe tbody tr th {\n",
       "        vertical-align: top;\n",
       "    }\n",
       "\n",
       "    .dataframe thead tr th {\n",
       "        text-align: left;\n",
       "    }\n",
       "\n",
       "    .dataframe thead tr:last-of-type th {\n",
       "        text-align: right;\n",
       "    }\n",
       "</style>\n",
       "<table border=\"1\" class=\"dataframe\">\n",
       "  <thead>\n",
       "    <tr>\n",
       "      <th>Response</th>\n",
       "      <th colspan=\"3\" halign=\"left\">No</th>\n",
       "      <th colspan=\"3\" halign=\"left\">Yes</th>\n",
       "    </tr>\n",
       "    <tr>\n",
       "      <th>Vehicle Size</th>\n",
       "      <th>Large</th>\n",
       "      <th>Medsize</th>\n",
       "      <th>Small</th>\n",
       "      <th>Large</th>\n",
       "      <th>Medsize</th>\n",
       "      <th>Small</th>\n",
       "    </tr>\n",
       "    <tr>\n",
       "      <th>Sales Channel</th>\n",
       "      <th></th>\n",
       "      <th></th>\n",
       "      <th></th>\n",
       "      <th></th>\n",
       "      <th></th>\n",
       "      <th></th>\n",
       "    </tr>\n",
       "  </thead>\n",
       "  <tbody>\n",
       "    <tr>\n",
       "      <th>Agent</th>\n",
       "      <td>269</td>\n",
       "      <td>1967</td>\n",
       "      <td>575</td>\n",
       "      <td>72</td>\n",
       "      <td>504</td>\n",
       "      <td>90</td>\n",
       "    </tr>\n",
       "    <tr>\n",
       "      <th>Branch</th>\n",
       "      <td>237</td>\n",
       "      <td>1588</td>\n",
       "      <td>448</td>\n",
       "      <td>54</td>\n",
       "      <td>192</td>\n",
       "      <td>48</td>\n",
       "    </tr>\n",
       "    <tr>\n",
       "      <th>Call Center</th>\n",
       "      <td>161</td>\n",
       "      <td>1098</td>\n",
       "      <td>314</td>\n",
       "      <td>24</td>\n",
       "      <td>120</td>\n",
       "      <td>48</td>\n",
       "    </tr>\n",
       "    <tr>\n",
       "      <th>Web</th>\n",
       "      <td>111</td>\n",
       "      <td>829</td>\n",
       "      <td>229</td>\n",
       "      <td>18</td>\n",
       "      <td>126</td>\n",
       "      <td>12</td>\n",
       "    </tr>\n",
       "  </tbody>\n",
       "</table>\n",
       "</div>"
      ],
      "text/plain": [
       "Response         No                 Yes              \n",
       "Vehicle Size  Large Medsize Small Large Medsize Small\n",
       "Sales Channel                                        \n",
       "Agent           269    1967   575    72     504    90\n",
       "Branch          237    1588   448    54     192    48\n",
       "Call Center     161    1098   314    24     120    48\n",
       "Web             111     829   229    18     126    12"
      ]
     },
     "execution_count": 34,
     "metadata": {},
     "output_type": "execute_result"
    }
   ],
   "source": [
    "channel_size_count = (df.groupby([\n",
    " 'Sales Channel', 'Vehicle Size' ,'Response'\n",
    "]).count()['Customer']).unstack().fillna(0).unstack().fillna(0)\n",
    "\n",
    "channel_size_count"
   ]
  },
  {
   "cell_type": "markdown",
   "id": "6ecc9911",
   "metadata": {},
   "source": [
    "Notice that we have unstacked the df twice to have the last table, next we calculate the engagement of this table just by dividing each row by the count per sales channel type -each category of this variable works as a probabilistic space in this case-"
   ]
  },
  {
   "cell_type": "code",
   "execution_count": 35,
   "id": "a74fee4d",
   "metadata": {},
   "outputs": [
    {
     "data": {
      "text/html": [
       "<div>\n",
       "<style scoped>\n",
       "    .dataframe tbody tr th:only-of-type {\n",
       "        vertical-align: middle;\n",
       "    }\n",
       "\n",
       "    .dataframe tbody tr th {\n",
       "        vertical-align: top;\n",
       "    }\n",
       "\n",
       "    .dataframe thead tr th {\n",
       "        text-align: left;\n",
       "    }\n",
       "\n",
       "    .dataframe thead tr:last-of-type th {\n",
       "        text-align: right;\n",
       "    }\n",
       "</style>\n",
       "<table border=\"1\" class=\"dataframe\">\n",
       "  <thead>\n",
       "    <tr>\n",
       "      <th>Response</th>\n",
       "      <th colspan=\"3\" halign=\"left\">No</th>\n",
       "      <th colspan=\"3\" halign=\"left\">Yes</th>\n",
       "    </tr>\n",
       "    <tr>\n",
       "      <th>Vehicle Size</th>\n",
       "      <th>Large</th>\n",
       "      <th>Medsize</th>\n",
       "      <th>Small</th>\n",
       "      <th>Large</th>\n",
       "      <th>Medsize</th>\n",
       "      <th>Small</th>\n",
       "    </tr>\n",
       "    <tr>\n",
       "      <th>Sales Channel</th>\n",
       "      <th></th>\n",
       "      <th></th>\n",
       "      <th></th>\n",
       "      <th></th>\n",
       "      <th></th>\n",
       "      <th></th>\n",
       "    </tr>\n",
       "  </thead>\n",
       "  <tbody>\n",
       "    <tr>\n",
       "      <th>Agent</th>\n",
       "      <td>7.736555</td>\n",
       "      <td>56.571757</td>\n",
       "      <td>16.537245</td>\n",
       "      <td>2.070751</td>\n",
       "      <td>14.495255</td>\n",
       "      <td>2.588438</td>\n",
       "    </tr>\n",
       "    <tr>\n",
       "      <th>Branch</th>\n",
       "      <td>9.232567</td>\n",
       "      <td>61.862096</td>\n",
       "      <td>17.452279</td>\n",
       "      <td>2.103623</td>\n",
       "      <td>7.479548</td>\n",
       "      <td>1.869887</td>\n",
       "    </tr>\n",
       "    <tr>\n",
       "      <th>Call Center</th>\n",
       "      <td>9.121813</td>\n",
       "      <td>62.209632</td>\n",
       "      <td>17.790368</td>\n",
       "      <td>1.359773</td>\n",
       "      <td>6.798867</td>\n",
       "      <td>2.719547</td>\n",
       "    </tr>\n",
       "    <tr>\n",
       "      <th>Web</th>\n",
       "      <td>8.377358</td>\n",
       "      <td>62.566038</td>\n",
       "      <td>17.283019</td>\n",
       "      <td>1.358491</td>\n",
       "      <td>9.509434</td>\n",
       "      <td>0.905660</td>\n",
       "    </tr>\n",
       "  </tbody>\n",
       "</table>\n",
       "</div>"
      ],
      "text/plain": [
       "Response             No                             Yes                     \n",
       "Vehicle Size      Large    Medsize      Small     Large    Medsize     Small\n",
       "Sales Channel                                                               \n",
       "Agent          7.736555  56.571757  16.537245  2.070751  14.495255  2.588438\n",
       "Branch         9.232567  61.862096  17.452279  2.103623   7.479548  1.869887\n",
       "Call Center    9.121813  62.209632  17.790368  1.359773   6.798867  2.719547\n",
       "Web            8.377358  62.566038  17.283019  1.358491   9.509434  0.905660"
      ]
     },
     "execution_count": 35,
     "metadata": {},
     "output_type": "execute_result"
    }
   ],
   "source": [
    "channel_size_rate = (df.groupby([\n",
    " 'Sales Channel', 'Vehicle Size' ,'Response'\n",
    "]).count()['Customer']/ df.groupby(['Sales Channel']).count()['Customer']*100).unstack().fillna(0).unstack().fillna(0)\n",
    "\n",
    "channel_size_rate"
   ]
  },
  {
   "cell_type": "code",
   "execution_count": 36,
   "id": "a57cd5cf",
   "metadata": {},
   "outputs": [
    {
     "data": {
      "text/plain": [
       "Sales Channel\n",
       "Agent          100.0\n",
       "Branch         100.0\n",
       "Call Center    100.0\n",
       "Web            100.0\n",
       "dtype: float64"
      ]
     },
     "execution_count": 36,
     "metadata": {},
     "output_type": "execute_result"
    }
   ],
   "source": [
    "# Checking if the calculations are right\n",
    "channel_size_rate.sum(axis=1)"
   ]
  },
  {
   "cell_type": "code",
   "execution_count": 37,
   "id": "cb5a0547",
   "metadata": {},
   "outputs": [
    {
     "data": {
      "text/html": [
       "<div>\n",
       "<style scoped>\n",
       "    .dataframe tbody tr th:only-of-type {\n",
       "        vertical-align: middle;\n",
       "    }\n",
       "\n",
       "    .dataframe tbody tr th {\n",
       "        vertical-align: top;\n",
       "    }\n",
       "\n",
       "    .dataframe thead th {\n",
       "        text-align: right;\n",
       "    }\n",
       "</style>\n",
       "<table border=\"1\" class=\"dataframe\">\n",
       "  <thead>\n",
       "    <tr style=\"text-align: right;\">\n",
       "      <th>Vehicle Size</th>\n",
       "      <th>Large</th>\n",
       "      <th>Medsize</th>\n",
       "      <th>Small</th>\n",
       "    </tr>\n",
       "    <tr>\n",
       "      <th>Sales Channel</th>\n",
       "      <th></th>\n",
       "      <th></th>\n",
       "      <th></th>\n",
       "    </tr>\n",
       "  </thead>\n",
       "  <tbody>\n",
       "    <tr>\n",
       "      <th>Agent</th>\n",
       "      <td>2.070751</td>\n",
       "      <td>14.495255</td>\n",
       "      <td>2.588438</td>\n",
       "    </tr>\n",
       "    <tr>\n",
       "      <th>Branch</th>\n",
       "      <td>2.103623</td>\n",
       "      <td>7.479548</td>\n",
       "      <td>1.869887</td>\n",
       "    </tr>\n",
       "    <tr>\n",
       "      <th>Call Center</th>\n",
       "      <td>1.359773</td>\n",
       "      <td>6.798867</td>\n",
       "      <td>2.719547</td>\n",
       "    </tr>\n",
       "    <tr>\n",
       "      <th>Web</th>\n",
       "      <td>1.358491</td>\n",
       "      <td>9.509434</td>\n",
       "      <td>0.905660</td>\n",
       "    </tr>\n",
       "  </tbody>\n",
       "</table>\n",
       "</div>"
      ],
      "text/plain": [
       "Vehicle Size      Large    Medsize     Small\n",
       "Sales Channel                               \n",
       "Agent          2.070751  14.495255  2.588438\n",
       "Branch         2.103623   7.479548  1.869887\n",
       "Call Center    1.359773   6.798867  2.719547\n",
       "Web            1.358491   9.509434  0.905660"
      ]
     },
     "execution_count": 37,
     "metadata": {},
     "output_type": "execute_result"
    }
   ],
   "source": [
    "channel_size_rate_pos = channel_size_rate['Yes']\n",
    "channel_size_rate_pos"
   ]
  },
  {
   "cell_type": "code",
   "execution_count": 38,
   "id": "d39056c6",
   "metadata": {},
   "outputs": [
    {
     "data": {
      "image/png": "[encoded data removed]",
      "text/plain": [
       "<Figure size 800x500 with 1 Axes>"
      ]
     },
     "metadata": {},
     "output_type": "display_data"
    }
   ],
   "source": [
    "channel_size_rate_pos.plot(\n",
    " kind='bar',\n",
    " figsize=(8, 5),\n",
    " color = [\"#999999\", \"#E69F00\", \"#56B4E9\", \"#009E73\", \"#F0E442\", \"#0072B2\", \"#D55E00\", \"#CC79A7\"],\n",
    " #color='steelblue',\n",
    " grid=True\n",
    ")\n",
    "ax.set_ylabel('Engagement Rate (%)')\n",
    "plt.show()"
   ]
  },
  {
   "cell_type": "markdown",
   "id": "718075f6",
   "metadata": {},
   "source": [
    "Some important things to stand out from the last barplot. The Midsize vehicle has better engagement response in all sales channels. The small vehicles could be reached via call center and agent instead of via web or branch."
   ]
  },
  {
   "cell_type": "markdown",
   "id": "061aa0bb",
   "metadata": {},
   "source": [
    "## Engagement by months since policy inception\n",
    "\n",
    "First, lest check the column\n",
    "\n"
   ]
  },
  {
   "cell_type": "code",
   "execution_count": 39,
   "id": "8f4c438a",
   "metadata": {},
   "outputs": [
    {
     "data": {
      "text/plain": [
       "array([ 0,  1,  2,  3,  4,  5,  6,  7,  8,  9, 10, 11, 12, 13, 14, 15, 16,\n",
       "       17, 18, 19, 20, 21, 22, 23, 24, 25, 26, 27, 28, 29, 30, 31, 32, 33,\n",
       "       34, 35, 36, 37, 38, 39, 40, 41, 42, 43, 44, 45, 46, 47, 48, 49, 50,\n",
       "       51, 52, 53, 54, 55, 56, 57, 58, 59, 60, 61, 62, 63, 64, 65, 66, 67,\n",
       "       68, 69, 70, 71, 72, 73, 74, 75, 76, 77, 78, 79, 80, 81, 82, 83, 84,\n",
       "       85, 86, 87, 88, 89, 90, 91, 92, 93, 94, 95, 96, 97, 98, 99],\n",
       "      dtype=int64)"
      ]
     },
     "execution_count": 39,
     "metadata": {},
     "output_type": "execute_result"
    }
   ],
   "source": [
    "np.sort(df['Months Since Policy Inception'].unique())"
   ]
  },
  {
   "cell_type": "markdown",
   "id": "17750ed3",
   "metadata": {},
   "source": [
    "As we have been doing, lets calculate the engagement by Months Since Policy Inception"
   ]
  },
  {
   "cell_type": "code",
   "execution_count": 40,
   "id": "7554b0f8",
   "metadata": {},
   "outputs": [
    {
     "data": {
      "text/html": [
       "<div>\n",
       "<style scoped>\n",
       "    .dataframe tbody tr th:only-of-type {\n",
       "        vertical-align: middle;\n",
       "    }\n",
       "\n",
       "    .dataframe tbody tr th {\n",
       "        vertical-align: top;\n",
       "    }\n",
       "\n",
       "    .dataframe thead th {\n",
       "        text-align: right;\n",
       "    }\n",
       "</style>\n",
       "<table border=\"1\" class=\"dataframe\">\n",
       "  <thead>\n",
       "    <tr style=\"text-align: right;\">\n",
       "      <th>Response</th>\n",
       "      <th>No</th>\n",
       "      <th>Yes</th>\n",
       "    </tr>\n",
       "    <tr>\n",
       "      <th>Months Since Policy Inception</th>\n",
       "      <th></th>\n",
       "      <th></th>\n",
       "    </tr>\n",
       "  </thead>\n",
       "  <tbody>\n",
       "    <tr>\n",
       "      <th>0</th>\n",
       "      <td>71.0</td>\n",
       "      <td>12.0</td>\n",
       "    </tr>\n",
       "    <tr>\n",
       "      <th>1</th>\n",
       "      <td>73.0</td>\n",
       "      <td>12.0</td>\n",
       "    </tr>\n",
       "    <tr>\n",
       "      <th>2</th>\n",
       "      <td>71.0</td>\n",
       "      <td>18.0</td>\n",
       "    </tr>\n",
       "    <tr>\n",
       "      <th>3</th>\n",
       "      <td>84.0</td>\n",
       "      <td>30.0</td>\n",
       "    </tr>\n",
       "    <tr>\n",
       "      <th>4</th>\n",
       "      <td>73.0</td>\n",
       "      <td>18.0</td>\n",
       "    </tr>\n",
       "  </tbody>\n",
       "</table>\n",
       "</div>"
      ],
      "text/plain": [
       "Response                         No   Yes\n",
       "Months Since Policy Inception            \n",
       "0                              71.0  12.0\n",
       "1                              73.0  12.0\n",
       "2                              71.0  18.0\n",
       "3                              84.0  30.0\n",
       "4                              73.0  18.0"
      ]
     },
     "execution_count": 40,
     "metadata": {},
     "output_type": "execute_result"
    }
   ],
   "source": [
    "count_engaged_since_policy = (df.groupby([\n",
    " 'Months Since Policy Inception','Response'\n",
    "]).count()['Customer']).unstack().fillna(0)\n",
    "count_engaged_since_policy.head()"
   ]
  },
  {
   "cell_type": "code",
   "execution_count": 41,
   "id": "9e9dbf40",
   "metadata": {},
   "outputs": [
    {
     "data": {
      "text/html": [
       "<div>\n",
       "<style scoped>\n",
       "    .dataframe tbody tr th:only-of-type {\n",
       "        vertical-align: middle;\n",
       "    }\n",
       "\n",
       "    .dataframe tbody tr th {\n",
       "        vertical-align: top;\n",
       "    }\n",
       "\n",
       "    .dataframe thead th {\n",
       "        text-align: right;\n",
       "    }\n",
       "</style>\n",
       "<table border=\"1\" class=\"dataframe\">\n",
       "  <thead>\n",
       "    <tr style=\"text-align: right;\">\n",
       "      <th>Response</th>\n",
       "      <th>No</th>\n",
       "      <th>Yes</th>\n",
       "    </tr>\n",
       "    <tr>\n",
       "      <th>Months Since Policy Inception</th>\n",
       "      <th></th>\n",
       "      <th></th>\n",
       "    </tr>\n",
       "  </thead>\n",
       "  <tbody>\n",
       "    <tr>\n",
       "      <th>0</th>\n",
       "      <td>85.542169</td>\n",
       "      <td>14.457831</td>\n",
       "    </tr>\n",
       "    <tr>\n",
       "      <th>1</th>\n",
       "      <td>85.882353</td>\n",
       "      <td>14.117647</td>\n",
       "    </tr>\n",
       "    <tr>\n",
       "      <th>2</th>\n",
       "      <td>79.775281</td>\n",
       "      <td>20.224719</td>\n",
       "    </tr>\n",
       "    <tr>\n",
       "      <th>3</th>\n",
       "      <td>73.684211</td>\n",
       "      <td>26.315789</td>\n",
       "    </tr>\n",
       "    <tr>\n",
       "      <th>4</th>\n",
       "      <td>80.219780</td>\n",
       "      <td>19.780220</td>\n",
       "    </tr>\n",
       "  </tbody>\n",
       "</table>\n",
       "</div>"
      ],
      "text/plain": [
       "Response                              No        Yes\n",
       "Months Since Policy Inception                      \n",
       "0                              85.542169  14.457831\n",
       "1                              85.882353  14.117647\n",
       "2                              79.775281  20.224719\n",
       "3                              73.684211  26.315789\n",
       "4                              80.219780  19.780220"
      ]
     },
     "execution_count": 41,
     "metadata": {},
     "output_type": "execute_result"
    }
   ],
   "source": [
    "rates_engaged_since_policy = (df.groupby([\n",
    " 'Months Since Policy Inception','Response'\n",
    "]).count()['Customer'] / df.groupby('Months Since Policy Inception').count()['Customer']*100).unstack().fillna(0)\n",
    "\n",
    "rates_engaged_since_policy.head()"
   ]
  },
  {
   "cell_type": "code",
   "execution_count": 42,
   "id": "d9c64d94",
   "metadata": {},
   "outputs": [
    {
     "data": {
      "text/plain": [
       "Months Since Policy Inception\n",
       "0    14.457831\n",
       "1    14.117647\n",
       "2    20.224719\n",
       "3    26.315789\n",
       "4    19.780220\n",
       "Name: Yes, dtype: float64"
      ]
     },
     "execution_count": 42,
     "metadata": {},
     "output_type": "execute_result"
    }
   ],
   "source": [
    "rates_engaged_since_policy_pos = rates_engaged_since_policy['Yes']\n",
    "rates_engaged_since_policy_pos.head()"
   ]
  },
  {
   "cell_type": "code",
   "execution_count": 43,
   "id": "6dbc4a30",
   "metadata": {},
   "outputs": [
    {
     "data": {
      "image/png": "[encoded data removed]",
      "text/plain": [
       "<Figure size 640x480 with 1 Axes>"
      ]
     },
     "metadata": {},
     "output_type": "display_data"
    }
   ],
   "source": [
    "x = rates_engaged_since_policy_pos.index\n",
    "y = rates_engaged_since_policy_pos.values\n",
    "sns.lineplot(x = x, y = y, data = rates_engaged_since_policy_pos, color='steelblue')\n",
    "ax.set_ylabel('Engagement Rate (%)')\n",
    "plt.show()"
   ]
  },
  {
   "cell_type": "markdown",
   "id": "fc4f2f26",
   "metadata": {},
   "source": [
    "Also lets give a look to the statistics for this variable"
   ]
  },
  {
   "cell_type": "code",
   "execution_count": 52,
   "id": "8217e94e",
   "metadata": {},
   "outputs": [
    {
     "data": {
      "text/plain": [
       "count    9134.000000\n",
       "mean       48.064594\n",
       "std        27.905991\n",
       "min         0.000000\n",
       "25%        24.000000\n",
       "50%        48.000000\n",
       "75%        71.000000\n",
       "max        99.000000\n",
       "Name: Months Since Policy Inception, dtype: float64"
      ]
     },
     "execution_count": 52,
     "metadata": {},
     "output_type": "execute_result"
    }
   ],
   "source": [
    "df['Months Since Policy Inception'].describe()"
   ]
  },
  {
   "cell_type": "code",
   "execution_count": 57,
   "id": "e56407a1",
   "metadata": {},
   "outputs": [
    {
     "data": {
      "image/png": "[encoded data removed]",
      "text/plain": [
       "<Figure size 640x480 with 1 Axes>"
      ]
     },
     "metadata": {},
     "output_type": "display_data"
    }
   ],
   "source": [
    "sns.boxplot(df['Months Since Policy Inception'], width=0.3)\n",
    "figzise = (2,2)\n",
    "plt.show()"
   ]
  },
  {
   "cell_type": "markdown",
   "id": "edb98254",
   "metadata": {},
   "source": [
    "## Customer segmentation by CLV and months since policy inception"
   ]
  },
  {
   "cell_type": "markdown",
   "id": "4e2fe916",
   "metadata": {},
   "source": [
    "Now we want to give an analysis by clv and months since policy inception. We have already given a look to the variable months since policy inception. To facilitate the work it is adequate to segment the data. Inasmuch as the last section, lets segmentate months since policy inception by the mean"
   ]
  },
  {
   "cell_type": "code",
   "execution_count": 61,
   "id": "bf94c102",
   "metadata": {},
   "outputs": [
    {
     "data": {
      "text/html": [
       "<div>\n",
       "<style scoped>\n",
       "    .dataframe tbody tr th:only-of-type {\n",
       "        vertical-align: middle;\n",
       "    }\n",
       "\n",
       "    .dataframe tbody tr th {\n",
       "        vertical-align: top;\n",
       "    }\n",
       "\n",
       "    .dataframe thead th {\n",
       "        text-align: right;\n",
       "    }\n",
       "</style>\n",
       "<table border=\"1\" class=\"dataframe\">\n",
       "  <thead>\n",
       "    <tr style=\"text-align: right;\">\n",
       "      <th></th>\n",
       "      <th>Customer</th>\n",
       "      <th>State</th>\n",
       "      <th>Customer Lifetime Value</th>\n",
       "      <th>Response</th>\n",
       "      <th>Coverage</th>\n",
       "      <th>Education</th>\n",
       "      <th>Effective To Date</th>\n",
       "      <th>EmploymentStatus</th>\n",
       "      <th>Gender</th>\n",
       "      <th>Income</th>\n",
       "      <th>...</th>\n",
       "      <th>Number of Open Complaints</th>\n",
       "      <th>Number of Policies</th>\n",
       "      <th>Policy Type</th>\n",
       "      <th>Policy</th>\n",
       "      <th>Renew Offer Type</th>\n",
       "      <th>Sales Channel</th>\n",
       "      <th>Total Claim Amount</th>\n",
       "      <th>Vehicle Class</th>\n",
       "      <th>Vehicle Size</th>\n",
       "      <th>Segment Months Since Policy</th>\n",
       "    </tr>\n",
       "  </thead>\n",
       "  <tbody>\n",
       "    <tr>\n",
       "      <th>0</th>\n",
       "      <td>BU79786</td>\n",
       "      <td>Washington</td>\n",
       "      <td>2763.519279</td>\n",
       "      <td>No</td>\n",
       "      <td>Basic</td>\n",
       "      <td>Bachelor</td>\n",
       "      <td>2/24/11</td>\n",
       "      <td>Employed</td>\n",
       "      <td>F</td>\n",
       "      <td>56274</td>\n",
       "      <td>...</td>\n",
       "      <td>0</td>\n",
       "      <td>1</td>\n",
       "      <td>Corporate Auto</td>\n",
       "      <td>Corporate L3</td>\n",
       "      <td>Offer1</td>\n",
       "      <td>Agent</td>\n",
       "      <td>384.811147</td>\n",
       "      <td>Two-Door Car</td>\n",
       "      <td>Medsize</td>\n",
       "      <td>under</td>\n",
       "    </tr>\n",
       "    <tr>\n",
       "      <th>1</th>\n",
       "      <td>QZ44356</td>\n",
       "      <td>Arizona</td>\n",
       "      <td>6979.535903</td>\n",
       "      <td>No</td>\n",
       "      <td>Extended</td>\n",
       "      <td>Bachelor</td>\n",
       "      <td>1/31/11</td>\n",
       "      <td>Unemployed</td>\n",
       "      <td>F</td>\n",
       "      <td>0</td>\n",
       "      <td>...</td>\n",
       "      <td>0</td>\n",
       "      <td>8</td>\n",
       "      <td>Personal Auto</td>\n",
       "      <td>Personal L3</td>\n",
       "      <td>Offer3</td>\n",
       "      <td>Agent</td>\n",
       "      <td>1131.464935</td>\n",
       "      <td>Four-Door Car</td>\n",
       "      <td>Medsize</td>\n",
       "      <td>under</td>\n",
       "    </tr>\n",
       "    <tr>\n",
       "      <th>2</th>\n",
       "      <td>AI49188</td>\n",
       "      <td>Nevada</td>\n",
       "      <td>12887.431650</td>\n",
       "      <td>No</td>\n",
       "      <td>Premium</td>\n",
       "      <td>Bachelor</td>\n",
       "      <td>2/19/11</td>\n",
       "      <td>Employed</td>\n",
       "      <td>F</td>\n",
       "      <td>48767</td>\n",
       "      <td>...</td>\n",
       "      <td>0</td>\n",
       "      <td>2</td>\n",
       "      <td>Personal Auto</td>\n",
       "      <td>Personal L3</td>\n",
       "      <td>Offer1</td>\n",
       "      <td>Agent</td>\n",
       "      <td>566.472247</td>\n",
       "      <td>Two-Door Car</td>\n",
       "      <td>Medsize</td>\n",
       "      <td>under</td>\n",
       "    </tr>\n",
       "    <tr>\n",
       "      <th>3</th>\n",
       "      <td>WW63253</td>\n",
       "      <td>California</td>\n",
       "      <td>7645.861827</td>\n",
       "      <td>No</td>\n",
       "      <td>Basic</td>\n",
       "      <td>Bachelor</td>\n",
       "      <td>1/20/11</td>\n",
       "      <td>Unemployed</td>\n",
       "      <td>M</td>\n",
       "      <td>0</td>\n",
       "      <td>...</td>\n",
       "      <td>0</td>\n",
       "      <td>7</td>\n",
       "      <td>Corporate Auto</td>\n",
       "      <td>Corporate L2</td>\n",
       "      <td>Offer1</td>\n",
       "      <td>Call Center</td>\n",
       "      <td>529.881344</td>\n",
       "      <td>SUV</td>\n",
       "      <td>Medsize</td>\n",
       "      <td>over</td>\n",
       "    </tr>\n",
       "    <tr>\n",
       "      <th>4</th>\n",
       "      <td>HB64268</td>\n",
       "      <td>Washington</td>\n",
       "      <td>2813.692575</td>\n",
       "      <td>No</td>\n",
       "      <td>Basic</td>\n",
       "      <td>Bachelor</td>\n",
       "      <td>2/3/11</td>\n",
       "      <td>Employed</td>\n",
       "      <td>M</td>\n",
       "      <td>43836</td>\n",
       "      <td>...</td>\n",
       "      <td>0</td>\n",
       "      <td>1</td>\n",
       "      <td>Personal Auto</td>\n",
       "      <td>Personal L1</td>\n",
       "      <td>Offer1</td>\n",
       "      <td>Agent</td>\n",
       "      <td>138.130879</td>\n",
       "      <td>Four-Door Car</td>\n",
       "      <td>Medsize</td>\n",
       "      <td>under</td>\n",
       "    </tr>\n",
       "  </tbody>\n",
       "</table>\n",
       "<p>5 rows × 25 columns</p>\n",
       "</div>"
      ],
      "text/plain": [
       "  Customer       State  Customer Lifetime Value Response  Coverage Education  \\\n",
       "0  BU79786  Washington              2763.519279       No     Basic  Bachelor   \n",
       "1  QZ44356     Arizona              6979.535903       No  Extended  Bachelor   \n",
       "2  AI49188      Nevada             12887.431650       No   Premium  Bachelor   \n",
       "3  WW63253  California              7645.861827       No     Basic  Bachelor   \n",
       "4  HB64268  Washington              2813.692575       No     Basic  Bachelor   \n",
       "\n",
       "  Effective To Date EmploymentStatus Gender  Income  ...  \\\n",
       "0           2/24/11         Employed      F   56274  ...   \n",
       "1           1/31/11       Unemployed      F       0  ...   \n",
       "2           2/19/11         Employed      F   48767  ...   \n",
       "3           1/20/11       Unemployed      M       0  ...   \n",
       "4            2/3/11         Employed      M   43836  ...   \n",
       "\n",
       "  Number of Open Complaints Number of Policies     Policy Type        Policy  \\\n",
       "0                         0                  1  Corporate Auto  Corporate L3   \n",
       "1                         0                  8   Personal Auto   Personal L3   \n",
       "2                         0                  2   Personal Auto   Personal L3   \n",
       "3                         0                  7  Corporate Auto  Corporate L2   \n",
       "4                         0                  1   Personal Auto   Personal L1   \n",
       "\n",
       "   Renew Offer Type  Sales Channel  Total Claim Amount  Vehicle Class  \\\n",
       "0            Offer1          Agent          384.811147   Two-Door Car   \n",
       "1            Offer3          Agent         1131.464935  Four-Door Car   \n",
       "2            Offer1          Agent          566.472247   Two-Door Car   \n",
       "3            Offer1    Call Center          529.881344            SUV   \n",
       "4            Offer1          Agent          138.130879  Four-Door Car   \n",
       "\n",
       "  Vehicle Size Segment Months Since Policy  \n",
       "0      Medsize                       under  \n",
       "1      Medsize                       under  \n",
       "2      Medsize                       under  \n",
       "3      Medsize                        over  \n",
       "4      Medsize                       under  \n",
       "\n",
       "[5 rows x 25 columns]"
      ]
     },
     "execution_count": 61,
     "metadata": {},
     "output_type": "execute_result"
    }
   ],
   "source": [
    "df['Segment Months Since Policy'] = df['Months Since Policy Inception'].apply(lambda x: 'under' if x < df['Months Since Policy Inception'].mean() else 'over' )\n",
    "df.head()"
   ]
  },
  {
   "cell_type": "markdown",
   "id": "344c5555",
   "metadata": {},
   "source": [
    "Now its time to the clv to be taken into account"
   ]
  },
  {
   "cell_type": "code",
   "execution_count": 51,
   "id": "9d47a2d3",
   "metadata": {},
   "outputs": [
    {
     "data": {
      "image/png": "[encoded data removed]",
      "text/plain": [
       "<Figure size 640x480 with 1 Axes>"
      ]
     },
     "metadata": {},
     "output_type": "display_data"
    }
   ],
   "source": [
    "sns.distplot(df['Customer Lifetime Value'])\n",
    "plt.show()"
   ]
  },
  {
   "cell_type": "code",
   "execution_count": 62,
   "id": "d612263b",
   "metadata": {},
   "outputs": [
    {
     "data": {
      "text/plain": [
       "count     9134.000000\n",
       "mean      8004.940475\n",
       "std       6870.967608\n",
       "min       1898.007675\n",
       "25%       3994.251794\n",
       "50%       5780.182197\n",
       "75%       8962.167041\n",
       "max      83325.381190\n",
       "Name: Customer Lifetime Value, dtype: float64"
      ]
     },
     "execution_count": 62,
     "metadata": {},
     "output_type": "execute_result"
    }
   ],
   "source": [
    "df['Customer Lifetime Value'].describe()"
   ]
  },
  {
   "cell_type": "markdown",
   "id": "f157eedc",
   "metadata": {},
   "source": [
    "This variable depicts an exponential distribution with  mean 8000 and standard distribution 6870. To segmentize this variable, lest pick where the 50% of the probability is accumulated, i.e. the median"
   ]
  },
  {
   "cell_type": "code",
   "execution_count": 63,
   "id": "d35bfd4b",
   "metadata": {},
   "outputs": [
    {
     "data": {
      "text/html": [
       "<div>\n",
       "<style scoped>\n",
       "    .dataframe tbody tr th:only-of-type {\n",
       "        vertical-align: middle;\n",
       "    }\n",
       "\n",
       "    .dataframe tbody tr th {\n",
       "        vertical-align: top;\n",
       "    }\n",
       "\n",
       "    .dataframe thead th {\n",
       "        text-align: right;\n",
       "    }\n",
       "</style>\n",
       "<table border=\"1\" class=\"dataframe\">\n",
       "  <thead>\n",
       "    <tr style=\"text-align: right;\">\n",
       "      <th></th>\n",
       "      <th>Customer</th>\n",
       "      <th>State</th>\n",
       "      <th>Customer Lifetime Value</th>\n",
       "      <th>Response</th>\n",
       "      <th>Coverage</th>\n",
       "      <th>Education</th>\n",
       "      <th>Effective To Date</th>\n",
       "      <th>EmploymentStatus</th>\n",
       "      <th>Gender</th>\n",
       "      <th>Income</th>\n",
       "      <th>...</th>\n",
       "      <th>Number of Policies</th>\n",
       "      <th>Policy Type</th>\n",
       "      <th>Policy</th>\n",
       "      <th>Renew Offer Type</th>\n",
       "      <th>Sales Channel</th>\n",
       "      <th>Total Claim Amount</th>\n",
       "      <th>Vehicle Class</th>\n",
       "      <th>Vehicle Size</th>\n",
       "      <th>Segment Months Since Policy</th>\n",
       "      <th>Segment clv</th>\n",
       "    </tr>\n",
       "  </thead>\n",
       "  <tbody>\n",
       "    <tr>\n",
       "      <th>0</th>\n",
       "      <td>BU79786</td>\n",
       "      <td>Washington</td>\n",
       "      <td>2763.519279</td>\n",
       "      <td>No</td>\n",
       "      <td>Basic</td>\n",
       "      <td>Bachelor</td>\n",
       "      <td>2/24/11</td>\n",
       "      <td>Employed</td>\n",
       "      <td>F</td>\n",
       "      <td>56274</td>\n",
       "      <td>...</td>\n",
       "      <td>1</td>\n",
       "      <td>Corporate Auto</td>\n",
       "      <td>Corporate L3</td>\n",
       "      <td>Offer1</td>\n",
       "      <td>Agent</td>\n",
       "      <td>384.811147</td>\n",
       "      <td>Two-Door Car</td>\n",
       "      <td>Medsize</td>\n",
       "      <td>under</td>\n",
       "      <td>under</td>\n",
       "    </tr>\n",
       "    <tr>\n",
       "      <th>1</th>\n",
       "      <td>QZ44356</td>\n",
       "      <td>Arizona</td>\n",
       "      <td>6979.535903</td>\n",
       "      <td>No</td>\n",
       "      <td>Extended</td>\n",
       "      <td>Bachelor</td>\n",
       "      <td>1/31/11</td>\n",
       "      <td>Unemployed</td>\n",
       "      <td>F</td>\n",
       "      <td>0</td>\n",
       "      <td>...</td>\n",
       "      <td>8</td>\n",
       "      <td>Personal Auto</td>\n",
       "      <td>Personal L3</td>\n",
       "      <td>Offer3</td>\n",
       "      <td>Agent</td>\n",
       "      <td>1131.464935</td>\n",
       "      <td>Four-Door Car</td>\n",
       "      <td>Medsize</td>\n",
       "      <td>under</td>\n",
       "      <td>over</td>\n",
       "    </tr>\n",
       "    <tr>\n",
       "      <th>2</th>\n",
       "      <td>AI49188</td>\n",
       "      <td>Nevada</td>\n",
       "      <td>12887.431650</td>\n",
       "      <td>No</td>\n",
       "      <td>Premium</td>\n",
       "      <td>Bachelor</td>\n",
       "      <td>2/19/11</td>\n",
       "      <td>Employed</td>\n",
       "      <td>F</td>\n",
       "      <td>48767</td>\n",
       "      <td>...</td>\n",
       "      <td>2</td>\n",
       "      <td>Personal Auto</td>\n",
       "      <td>Personal L3</td>\n",
       "      <td>Offer1</td>\n",
       "      <td>Agent</td>\n",
       "      <td>566.472247</td>\n",
       "      <td>Two-Door Car</td>\n",
       "      <td>Medsize</td>\n",
       "      <td>under</td>\n",
       "      <td>over</td>\n",
       "    </tr>\n",
       "    <tr>\n",
       "      <th>3</th>\n",
       "      <td>WW63253</td>\n",
       "      <td>California</td>\n",
       "      <td>7645.861827</td>\n",
       "      <td>No</td>\n",
       "      <td>Basic</td>\n",
       "      <td>Bachelor</td>\n",
       "      <td>1/20/11</td>\n",
       "      <td>Unemployed</td>\n",
       "      <td>M</td>\n",
       "      <td>0</td>\n",
       "      <td>...</td>\n",
       "      <td>7</td>\n",
       "      <td>Corporate Auto</td>\n",
       "      <td>Corporate L2</td>\n",
       "      <td>Offer1</td>\n",
       "      <td>Call Center</td>\n",
       "      <td>529.881344</td>\n",
       "      <td>SUV</td>\n",
       "      <td>Medsize</td>\n",
       "      <td>over</td>\n",
       "      <td>over</td>\n",
       "    </tr>\n",
       "    <tr>\n",
       "      <th>4</th>\n",
       "      <td>HB64268</td>\n",
       "      <td>Washington</td>\n",
       "      <td>2813.692575</td>\n",
       "      <td>No</td>\n",
       "      <td>Basic</td>\n",
       "      <td>Bachelor</td>\n",
       "      <td>2/3/11</td>\n",
       "      <td>Employed</td>\n",
       "      <td>M</td>\n",
       "      <td>43836</td>\n",
       "      <td>...</td>\n",
       "      <td>1</td>\n",
       "      <td>Personal Auto</td>\n",
       "      <td>Personal L1</td>\n",
       "      <td>Offer1</td>\n",
       "      <td>Agent</td>\n",
       "      <td>138.130879</td>\n",
       "      <td>Four-Door Car</td>\n",
       "      <td>Medsize</td>\n",
       "      <td>under</td>\n",
       "      <td>under</td>\n",
       "    </tr>\n",
       "  </tbody>\n",
       "</table>\n",
       "<p>5 rows × 26 columns</p>\n",
       "</div>"
      ],
      "text/plain": [
       "  Customer       State  Customer Lifetime Value Response  Coverage Education  \\\n",
       "0  BU79786  Washington              2763.519279       No     Basic  Bachelor   \n",
       "1  QZ44356     Arizona              6979.535903       No  Extended  Bachelor   \n",
       "2  AI49188      Nevada             12887.431650       No   Premium  Bachelor   \n",
       "3  WW63253  California              7645.861827       No     Basic  Bachelor   \n",
       "4  HB64268  Washington              2813.692575       No     Basic  Bachelor   \n",
       "\n",
       "  Effective To Date EmploymentStatus Gender  Income  ... Number of Policies  \\\n",
       "0           2/24/11         Employed      F   56274  ...                  1   \n",
       "1           1/31/11       Unemployed      F       0  ...                  8   \n",
       "2           2/19/11         Employed      F   48767  ...                  2   \n",
       "3           1/20/11       Unemployed      M       0  ...                  7   \n",
       "4            2/3/11         Employed      M   43836  ...                  1   \n",
       "\n",
       "      Policy Type        Policy  Renew Offer Type  Sales Channel  \\\n",
       "0  Corporate Auto  Corporate L3            Offer1          Agent   \n",
       "1   Personal Auto   Personal L3            Offer3          Agent   \n",
       "2   Personal Auto   Personal L3            Offer1          Agent   \n",
       "3  Corporate Auto  Corporate L2            Offer1    Call Center   \n",
       "4   Personal Auto   Personal L1            Offer1          Agent   \n",
       "\n",
       "   Total Claim Amount  Vehicle Class Vehicle Size Segment Months Since Policy  \\\n",
       "0          384.811147   Two-Door Car      Medsize                       under   \n",
       "1         1131.464935  Four-Door Car      Medsize                       under   \n",
       "2          566.472247   Two-Door Car      Medsize                       under   \n",
       "3          529.881344            SUV      Medsize                        over   \n",
       "4          138.130879  Four-Door Car      Medsize                       under   \n",
       "\n",
       "  Segment clv  \n",
       "0       under  \n",
       "1        over  \n",
       "2        over  \n",
       "3        over  \n",
       "4       under  \n",
       "\n",
       "[5 rows x 26 columns]"
      ]
     },
     "execution_count": 63,
     "metadata": {},
     "output_type": "execute_result"
    }
   ],
   "source": [
    "df['Segment clv'] = df['Customer Lifetime Value'].apply(lambda x: 'under' if x < df['Customer Lifetime Value'].median() else 'over' )\n",
    "df.head()"
   ]
  },
  {
   "cell_type": "code",
   "execution_count": 84,
   "id": "f66c1aa1",
   "metadata": {},
   "outputs": [
    {
     "data": {
      "image/png": "[encoded data removed]",
      "text/plain": [
       "<Figure size 640x480 with 1 Axes>"
      ]
     },
     "metadata": {},
     "output_type": "display_data"
    }
   ],
   "source": [
    "#color = [\"#999999\", \"#E69F00\", \"#56B4E9\", \"#009E73\", \"#F0E442\", \"#0072B2\", \"#D55E00\", \"#CC79A7\"]\n",
    "ax = df[(df['Segment clv']=='under') & (df['Segment Months Since Policy']=='under')].plot.scatter(x='Months Since Policy Inception',y='Customer Lifetime Value',logy=True,color =\"#999999\")\n",
    "\n",
    "df[(df['Segment clv']=='under') & (df['Segment Months Since Policy']=='over')].plot.scatter(x='Months Since Policy Inception',y='Customer Lifetime Value',logy=True,color =\"#E69F00\",ax=ax)\n",
    "\n",
    "df[(df['Segment clv']=='over') & (df['Segment Months Since Policy']=='under')].plot.scatter(x='Months Since Policy Inception',y='Customer Lifetime Value',logy=True,color =\"#56B4E9\",ax=ax)\n",
    "\n",
    "df[(df['Segment clv']=='over') & (df['Segment Months Since Policy']=='over')].plot.scatter(x='Months Since Policy Inception',y='Customer Lifetime Value',logy=True,color =\"#009E73\",ax=ax,grid=True)\n",
    "\n",
    "ax.set_ylabel('CLV (log scale)')\n",
    "\n",
    "plt.show()"
   ]
  },
  {
   "cell_type": "markdown",
   "id": "400267b2",
   "metadata": {},
   "source": [
    "Finally, lets calculate the engagement rate by considering this two segmetations"
   ]
  },
  {
   "cell_type": "code",
   "execution_count": 91,
   "id": "d1160fdb",
   "metadata": {},
   "outputs": [
    {
     "data": {
      "text/html": [
       "<div>\n",
       "<style scoped>\n",
       "    .dataframe tbody tr th:only-of-type {\n",
       "        vertical-align: middle;\n",
       "    }\n",
       "\n",
       "    .dataframe tbody tr th {\n",
       "        vertical-align: top;\n",
       "    }\n",
       "\n",
       "    .dataframe thead th {\n",
       "        text-align: right;\n",
       "    }\n",
       "</style>\n",
       "<table border=\"1\" class=\"dataframe\">\n",
       "  <thead>\n",
       "    <tr style=\"text-align: right;\">\n",
       "      <th></th>\n",
       "      <th>Response</th>\n",
       "      <th>No</th>\n",
       "      <th>Yes</th>\n",
       "    </tr>\n",
       "    <tr>\n",
       "      <th>Segment clv</th>\n",
       "      <th>Segment Months Since Policy</th>\n",
       "      <th></th>\n",
       "      <th></th>\n",
       "    </tr>\n",
       "  </thead>\n",
       "  <tbody>\n",
       "    <tr>\n",
       "      <th rowspan=\"2\" valign=\"top\">over</th>\n",
       "      <th>over</th>\n",
       "      <td>86.127168</td>\n",
       "      <td>13.872832</td>\n",
       "    </tr>\n",
       "    <tr>\n",
       "      <th>under</th>\n",
       "      <td>86.569092</td>\n",
       "      <td>13.430908</td>\n",
       "    </tr>\n",
       "    <tr>\n",
       "      <th rowspan=\"2\" valign=\"top\">under</th>\n",
       "      <th>over</th>\n",
       "      <td>83.754993</td>\n",
       "      <td>16.245007</td>\n",
       "    </tr>\n",
       "    <tr>\n",
       "      <th>under</th>\n",
       "      <td>86.227804</td>\n",
       "      <td>13.772196</td>\n",
       "    </tr>\n",
       "  </tbody>\n",
       "</table>\n",
       "</div>"
      ],
      "text/plain": [
       "Response                                        No        Yes\n",
       "Segment clv Segment Months Since Policy                      \n",
       "over        over                         86.127168  13.872832\n",
       "            under                        86.569092  13.430908\n",
       "under       over                         83.754993  16.245007\n",
       "            under                        86.227804  13.772196"
      ]
     },
     "execution_count": 91,
     "metadata": {},
     "output_type": "execute_result"
    }
   ],
   "source": [
    "clv_police_rate = (df.groupby([\n",
    " 'Segment clv', 'Segment Months Since Policy' ,'Response'\n",
    "]).count()['Customer']/ df.groupby(['Segment clv', 'Segment Months Since Policy']).count()['Customer']*100).unstack().fillna(0)\n",
    "\n",
    "clv_police_rate"
   ]
  },
  {
   "cell_type": "code",
   "execution_count": 93,
   "id": "2ec3bb55",
   "metadata": {},
   "outputs": [
    {
     "data": {
      "text/html": [
       "<div>\n",
       "<style scoped>\n",
       "    .dataframe tbody tr th:only-of-type {\n",
       "        vertical-align: middle;\n",
       "    }\n",
       "\n",
       "    .dataframe tbody tr th {\n",
       "        vertical-align: top;\n",
       "    }\n",
       "\n",
       "    .dataframe thead th {\n",
       "        text-align: right;\n",
       "    }\n",
       "</style>\n",
       "<table border=\"1\" class=\"dataframe\">\n",
       "  <thead>\n",
       "    <tr style=\"text-align: right;\">\n",
       "      <th>Segment Months Since Policy</th>\n",
       "      <th>over</th>\n",
       "      <th>under</th>\n",
       "    </tr>\n",
       "    <tr>\n",
       "      <th>Segment clv</th>\n",
       "      <th></th>\n",
       "      <th></th>\n",
       "    </tr>\n",
       "  </thead>\n",
       "  <tbody>\n",
       "    <tr>\n",
       "      <th>over</th>\n",
       "      <td>13.872832</td>\n",
       "      <td>13.430908</td>\n",
       "    </tr>\n",
       "    <tr>\n",
       "      <th>under</th>\n",
       "      <td>16.245007</td>\n",
       "      <td>13.772196</td>\n",
       "    </tr>\n",
       "  </tbody>\n",
       "</table>\n",
       "</div>"
      ],
      "text/plain": [
       "Segment Months Since Policy       over      under\n",
       "Segment clv                                      \n",
       "over                         13.872832  13.430908\n",
       "under                        16.245007  13.772196"
      ]
     },
     "execution_count": 93,
     "metadata": {},
     "output_type": "execute_result"
    }
   ],
   "source": [
    "# Taking the positive responses\n",
    "clv_police_rate_responses = clv_police_rate['Yes']\n",
    "clv_police_rate_responses = clv_police_rate_responses.unstack().fillna(0)\n",
    "clv_police_rate_responses"
   ]
  },
  {
   "cell_type": "code",
   "execution_count": 95,
   "id": "2ceaab78",
   "metadata": {},
   "outputs": [
    {
     "data": {
      "image/png": "[encoded data removed]",
      "text/plain": [
       "<Figure size 700x700 with 1 Axes>"
      ]
     },
     "metadata": {},
     "output_type": "display_data"
    }
   ],
   "source": [
    "clv_police_rate_responses.plot(\n",
    " kind='bar',\n",
    " figsize=(7, 7),\n",
    " color = [\"#999999\", \"#E69F00\", \"#56B4E9\", \"#009E73\", \"#F0E442\", \"#0072B2\", \"#D55E00\", \"#CC79A7\"],\n",
    " #color='steelblue',\n",
    " grid=True\n",
    ")\n",
    "ax.set_ylabel('Engagement Rate (%)')\n",
    "plt.show()"
   ]
  },
  {
   "cell_type": "markdown",
   "id": "d4fa8301",
   "metadata": {},
   "source": [
    "The last graphic tell us that the engagement is higher in customers who have been insuranced more time over the mean and this perform even better if their clv is under the median"
   ]
  },
  {
   "cell_type": "code",
   "execution_count": null,
   "id": "6e62cf49",
   "metadata": {},
   "outputs": [],
   "source": []
  }
 ],
 "metadata": {
  "kernelspec": {
   "display_name": "Python 3 (ipykernel)",
   "language": "python",
   "name": "python3"
  },
  "language_info": {
   "codemirror_mode": {
    "name": "ipython",
    "version": 3
   },
   "file_extension": ".py",
   "mimetype": "text/x-python",
   "name": "python",
   "nbconvert_exporter": "python",
   "pygments_lexer": "ipython3",
   "version": "3.10.9"
  }
 },
 "nbformat": 4,
 "nbformat_minor": 5
}
